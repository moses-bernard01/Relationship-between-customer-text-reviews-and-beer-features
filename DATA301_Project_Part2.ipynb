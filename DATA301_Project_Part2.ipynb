{
  "nbformat": 4,
  "nbformat_minor": 0,
  "metadata": {
    "colab": {
      "provenance": []
    },
    "kernelspec": {
      "name": "python3",
      "display_name": "Python 3"
    },
    "language_info": {
      "name": "python"
    }
  },
  "cells": [
    {
      "cell_type": "markdown",
      "source": [
        "## DATA301 Project Google Cloud Part"
      ],
      "metadata": {
        "id": "vxhFy1Td4c24"
      }
    },
    {
      "cell_type": "markdown",
      "source": [
        "## Loading Data"
      ],
      "metadata": {
        "id": "uOwL3cJk5rEG"
      }
    },
    {
      "cell_type": "code",
      "source": [
        "import urllib.request\n",
        "filename = 'sample_data/beeradvocate.json.gz'\n",
        "urllib.request.urlretrieve('https://datarepo.eng.ucsd.edu/mcauley_group/data/beer/beeradvocate.json.gz', filename) # The URL to the BeerAdvocate dataset\n",
        "print(f\"File saved as {filename}\")"
      ],
      "metadata": {
        "colab": {
          "base_uri": "https://localhost:8080/"
        },
        "id": "6RFVWPb24d1J",
        "outputId": "7d1cea59-501f-4cfa-cbaf-f7cae0f7eaf3"
      },
      "execution_count": null,
      "outputs": [
        {
          "output_type": "stream",
          "name": "stdout",
          "text": [
            "File saved as sample_data/beeradvocate.json.gz\n"
          ]
        }
      ]
    },
    {
      "cell_type": "code",
      "source": [
        "!pip install ijson # Need to run this so we can run: import ijason"
      ],
      "metadata": {
        "colab": {
          "base_uri": "https://localhost:8080/"
        },
        "id": "hEdyM_5xLk44",
        "outputId": "f90eb3d2-4c53-4859-de39-e643f4899c9b"
      },
      "execution_count": null,
      "outputs": [
        {
          "output_type": "stream",
          "name": "stdout",
          "text": [
            "Looking in indexes: https://pypi.org/simple, https://us-python.pkg.dev/colab-wheels/public/simple/\n",
            "Collecting ijson\n",
            "  Downloading ijson-3.2.0.post0-cp310-cp310-manylinux_2_17_x86_64.manylinux2014_x86_64.whl (113 kB)\n",
            "\u001b[2K     \u001b[90m━━━━━━━━━━━━━━━━━━━━━━━━━━━━━━━━━━━━━━━\u001b[0m \u001b[32m113.3/113.3 kB\u001b[0m \u001b[31m9.9 MB/s\u001b[0m eta \u001b[36m0:00:00\u001b[0m\n",
            "\u001b[?25hInstalling collected packages: ijson\n",
            "Successfully installed ijson-3.2.0.post0\n"
          ]
        }
      ]
    },
    {
      "cell_type": "code",
      "source": [
        "import gzip\n",
        "import shutil\n",
        "with gzip.open('sample_data/beeradvocate.json.gz', 'rb') as f_in:\n",
        "    with open('beeradvocate_reviews.json', 'wb') as f_out:\n",
        "\n",
        "        shutil.copyfileobj(f_in, f_out)\n",
        "        print(f_in)"
      ],
      "metadata": {
        "colab": {
          "base_uri": "https://localhost:8080/"
        },
        "id": "VuQwtR8SLaBo",
        "outputId": "04914fa8-cb30-4979-c52d-ac1a5ef0b82a"
      },
      "execution_count": null,
      "outputs": [
        {
          "output_type": "stream",
          "name": "stdout",
          "text": [
            "<gzip _io.BufferedReader name='sample_data/beeradvocate.json.gz' 0x7fef7293feb0>\n"
          ]
        }
      ]
    },
    {
      "cell_type": "code",
      "source": [
        "import json, ijson\n",
        "\n",
        "def float_converter(string):\n",
        "  \"\"\"Converts the values from a string into a float that were extracted from the BeeerAdvocate JSON file\"\"\"\n",
        "  try:\n",
        "      converter = float(string)\n",
        "  except ValueError:\n",
        "    converter = string\n",
        "  return converter\n",
        "\n",
        "\n",
        "\n",
        "def jsonline_converter(file_entry, file_output, aspect_rates):\n",
        "  \"\"\"Grabbing the important variables and values that will be used in later algortihms and analysis\"\"\"\n",
        "\n",
        "  with open(file_entry) as read_file, open(file_output, 'w') as output: # for opening a files, one for reading and one for writing\n",
        "    output.write('[\\n') # Initiates a new list of the things we need\n",
        "    first = True # Determines whether to insert a new line in the output file\n",
        "\n",
        "    for line in read_file: # Loops through the BeerAdvocate JSON file\n",
        "      line = line.replace(\"'\", '\"') # Replaces single quotes with double quotes to make sure its a valid JSON syntax\n",
        "      try:\n",
        "          data = json.loads(line) # Parses a JSON formatted string and returns Python object\n",
        "          selected_data = dict() # Creates new empty dictionary\n",
        "          for i in aspect_rates: # Loops through all the variables that will be used in the project\n",
        "              value = data.get(i) # Gets the values assoaciated with the syntax\n",
        "              if value is not None:\n",
        "                  selected_data[i] = float_converter(data.get(i)) # Converts it into a int value\n",
        "          if not first:\n",
        "              output.write(',\\n') # If conditions not met then create a new dictionary lines\n",
        "          first = False\n",
        "          output.write(json.dumps(selected_data)) # Function then writes the rating dictionary to the output file using the json.dumps() method to convert it to a JSON string.\n",
        "      except json.JSONDecodeError:\n",
        "          pass # Ignore line sthat cannotbe parsed into a JSON\n",
        "    output.write('\\n]\\n') # When loop completes, the function writes a closing square bracket ']' and a new line to the output file, indicating the end of the JSONL file.\n",
        "\n",
        "\n",
        "aspect_rates = ['beer/name', 'beer/beerId', 'review/appearance', 'review/aroma', 'review/palate', 'review/taste', 'review/overall', 'review/text']\n",
        "jsonline_converter('beeradvocate_reviews.json', 'beeradvocate_reviews.jsonl', aspect_rates)"
      ],
      "metadata": {
        "id": "Mp2Nl1o1LYsh"
      },
      "execution_count": null,
      "outputs": []
    },
    {
      "cell_type": "code",
      "source": [
        "!pip install nltk"
      ],
      "metadata": {
        "colab": {
          "base_uri": "https://localhost:8080/"
        },
        "id": "7hSmA77IShPM",
        "outputId": "8d6f9f65-189f-49bd-a32b-8fb4d5ce1c4c"
      },
      "execution_count": null,
      "outputs": [
        {
          "output_type": "stream",
          "name": "stdout",
          "text": [
            "Looking in indexes: https://pypi.org/simple, https://us-python.pkg.dev/colab-wheels/public/simple/\n",
            "Requirement already satisfied: nltk in /usr/local/lib/python3.10/dist-packages (3.8.1)\n",
            "Requirement already satisfied: click in /usr/local/lib/python3.10/dist-packages (from nltk) (8.1.3)\n",
            "Requirement already satisfied: joblib in /usr/local/lib/python3.10/dist-packages (from nltk) (1.2.0)\n",
            "Requirement already satisfied: regex>=2021.8.3 in /usr/local/lib/python3.10/dist-packages (from nltk) (2022.10.31)\n",
            "Requirement already satisfied: tqdm in /usr/local/lib/python3.10/dist-packages (from nltk) (4.65.0)\n"
          ]
        }
      ]
    },
    {
      "cell_type": "markdown",
      "source": [
        "## Copying work from the Project"
      ],
      "metadata": {
        "id": "PQoaPMLU-X57"
      }
    },
    {
      "cell_type": "code",
      "source": [
        "%%writefile project_beeradvocate.py\n",
        "import pyspark, time\n",
        "from pyspark.context import SparkContext\n",
        "from pyspark.sql.session import SparkSession\n",
        "import sys\n",
        "from operator import add\n",
        "\n",
        "\n",
        "STOP_WORDS = {\"you've\", \"that'll\", 'isn', \"shan't\", 'haven', 'if', \"weren't\", 'couldn', 'needn', 'd', 'same', 'it', 'are', 'to', 'nor', 'being', \"isn't\", 'on', 'our', 'their', 'until', 'out', 'under', 'any', 'below', 'once', 'mustn', 'doesn', \"hadn't\", 'shan', 'y', 'yourself', 'at', 'each', 'few', 'can', 'here', 'don', 'shouldn', 'been', 'over', 'those', 'she', 'having', 'wasn', 'you', 'itself', 'down', 'your', 'above', 'have', \"you're\", 'too', 'wouldn', 'be', \"doesn't\", 'ourselves', 'her', 'aren', 'mightn', 'why', 'while', 'that', 'does', 'weren', 'won', 'were', 'there', 'a', 'm', 'yours', 'theirs', 'whom', 'when', 'about', 't', \"couldn't\", 'by', 'before', \"shouldn't\", 'hers', 'against', 're', 'now', 's', \"wasn't\", 'what', 'from', 'has', 'an', \"didn't\", 'himself', 'we', 'because', 'do', 'will', \"wouldn't\", 'doing', 'some', 'through', 'up', 've', 'was', 'into', \"don't\", \"needn't\", 'had', 'how', 'not', 'them', 'such', \"mustn't\", 'but', 'i', 'herself', 'as', 'than', 'its', 'who', 'very', 'all', 'this', 'in', 'then', 'ours', \"won't\", 'own', 'am', \"aren't\", 'him', 'which', 'didn', 'yourselves', \"she's\", \"mightn't\", 'me', 'off', 'where', 'ain', 'both', 'he', 'my', 'they', 'for', 'again', 'no', 'myself', \"you'd\", 'll', 'these', 'most', 'with', 'of', 'hasn', 'more', \"should've\", 'ma', 'just', 'should', 'so', 'hadn', 'o', 'his', \"you'll\", \"hasn't\", 'or', 'did', 'the', \"it's\", 'further', 'other', \"haven't\", 'themselves', 'between', 'during', 'and', 'only', 'is', 'after'}\n",
        "\n",
        "if len(sys.argv) < 2:\n",
        "  raise Exception(\"Input URI required\")\n",
        "\n",
        "sc = SparkContext()\n",
        "spark = SparkSession(sc)\n",
        "\n",
        "time_start = time.time()\n",
        "\n",
        "user_reviews_df = spark.read.json(sys.argv[1], multiLine=True) # Reads a JSON Line file '.jsonl' into a dataframe using PySpark and the 'multiline' is to enable multiple lines of JSON objects\n",
        "user_reviews_df_ids = user_reviews_df.rdd.zipWithUniqueId() # converts the dataframe into RDD along with its unique identifier\n",
        "\n",
        "sampled_rdd = user_reviews_df_ids.sample(False, 0.02, seed = 42)\n",
        "\n",
        "import re\n",
        "\n",
        "def remove_nonletters(word):\n",
        "  \"\"\"Removes any nonletter words\"\"\"\n",
        "  return re.sub(r'[^a-zA-Z]', '', word)\n",
        "\n",
        "def split_remove_nonletters(line):\n",
        "  result = []\n",
        "  for word in line.split(\" \"):\n",
        "    removed_token = remove_nonletters(word.lower())\n",
        "    if removed_token != '':\n",
        "      result.append((removed_token, 1))\n",
        "  return result\n",
        "\n",
        "def wc(review_str):\n",
        "  result = {}\n",
        "  for word in review_str.split():\n",
        "    removed_token = remove_nonletters(word.lower())\n",
        "    if removed_token != '' and removed_token not in STOP_WORDS:\n",
        "      if removed_token not in result:\n",
        "        result[removed_token] = 0\n",
        "      result[removed_token] += 1\n",
        "  return result\n",
        "\n",
        "def overall_splitter(ratings):\n",
        "  if ratings <= 6:\n",
        "    return f'negative {ratings}'\n",
        "  elif ratings > 6 and ratings <= 13:\n",
        "    return f'neutral {ratings}'\n",
        "  elif ratings > 13 and ratings <= 20:\n",
        "    return f'positive {ratings}'\n",
        "  else:\n",
        "    return f'Exceeded the overall rating range of 20 by {ratings - 20}'\n",
        "\n",
        "\n",
        "import math\n",
        "\n",
        "def idf(user_count):\n",
        "  n_reviews = user_reviews_df.count()\n",
        "  combined_per_UCD = user_count.flatMap(lambda x: [(word, 1) for word in x[1].keys()]) # Initialise RDD containing a pair of tuple\n",
        "  overall_UCD = combined_per_UCD.reduceByKey(lambda a, b: a + b) # Collecting all pairs with the same key\n",
        "  idf_UCD = overall_UCD.map(lambda x: (x[0], math.log(n_reviews/x[1],2))) # math.log(Number of documents on the left side, # of times a word appears in those 4 documents)\n",
        "  return idf_UCD\n",
        "\n",
        "per_UDCR = sampled_rdd.map(lambda x: (x[1], (wc(x[0]['review/text']), x[0]['review/overall']))) # This alternative way of joining the User Text Reviews and Overall Ratings\n",
        "\n",
        "word_idf = idf(per_UDCR)\n",
        "\n",
        "def tf(UD_counts_ratings):\n",
        "  counting_rating_word = UD_counts_ratings.flatMap(lambda kv: [((word, kv[1][1]), kv[1][0][word]) for word in kv[1][0].keys()])\n",
        "  print(counting_rating_word.take(3))\n",
        "\n",
        "  total_WRC = counting_rating_word.reduceByKey(lambda a, b: a + b)\n",
        "  print(total_WRC.take(3))\n",
        "\n",
        "  total_WCBR = total_WRC.map(lambda kv: (kv[0][1], kv[1]))\n",
        "  print(total_WCBR.take(3))\n",
        "\n",
        "  max_PUR = total_WCBR.reduceByKey(lambda a, b: max(a, b)).collectAsMap()\n",
        "  print(max_PUR)\n",
        "\n",
        "  UDCR_frequency = total_WRC.map(lambda kv: (kv[0], kv[1] / max_PUR[kv[0][1]]))\n",
        "  return UDCR_frequency\n",
        "\n",
        "per_UDR_tfs = tf(per_UDCR)\n",
        "print(per_UDR_tfs.take(3))\n",
        "\n",
        "def tfidfi(tfs, idfs):\n",
        "  word_tfs = tfs.map(lambda kv: (kv[0][0], (kv[0][1], kv[1])))\n",
        "\n",
        "\n",
        "  tfidf_join = word_tfs.join(idfs)\n",
        "  print(tfidf_join.take(30)) # The output showing repeated term, it may indicate that this term have the highest significance within the BeerAdvocate document\n",
        "\n",
        "  tfidf_result = tfidf_join.map(lambda kv: (kv[1][0][0], (kv[1][0][1] * kv[1][1], kv[0])))\n",
        "\n",
        "  return tfidf_result\n",
        "\n",
        "\n",
        "def cosine_similarity(u, v):\n",
        "  \"\"\"Computes cosine similarity between two lists of integers\"\"\"\n",
        "  if u == v:\n",
        "    return 1.0\n",
        "\n",
        "  numerator = 0\n",
        "  denominator_u = 0\n",
        "  denominator_v = 0\n",
        "\n",
        "\n",
        "  for i, j in zip(u, v):\n",
        "    numerator += i * j\n",
        "    denominator_u += i ** 2\n",
        "    denominator_v += j ** 2\n",
        "\n",
        "  cosine_similarity = numerator / (math.sqrt(denominator_u) * math.sqrt(denominator_v))\n",
        "\n",
        "  return cosine_similarity\n",
        "\n",
        "import statistics\n",
        "import math\n",
        "\n",
        "def mean_value_computation(rates):\n",
        "  \"\"\"Calculating the mean values for all of the rates user gave on apearance, aroma, palate, taste\"\"\"\n",
        "  appearance_rates, aroma_rates, palate_rates, taste_rates = zip(*rates) ### unpacks the lists of tuples from each aspects of the beer\n",
        "\n",
        "  mean_appearance_rate = statistics.mean(appearance_rates)\n",
        "  mean_aroma_rate = statistics.mean(aroma_rates)\n",
        "  mean_palate_rate = statistics.mean(palate_rates)\n",
        "  mean_taste_rate = statistics.mean(taste_rates)\n",
        "\n",
        "\n",
        "  return (math.ceil(mean_appearance_rate), math.ceil(mean_aroma_rate), math.ceil(mean_palate_rate), math.ceil(mean_taste_rate))\n",
        "\n",
        "NOR_rdd = sampled_rdd.filter(lambda x : overall_splitter(x[0][\"review/overall\"]).split()[0] == 'negative') ### get the negative from the 'review/overall'\n",
        "beer_aspect_rates = NOR_rdd.map(lambda x : (x[0]['review/overall'], (x[0]['review/appearance'], x[0]['review/aroma'], x[0]['review/palate'], x[0]['review/taste']))) ### Retrieving only the important variables\n",
        "\n",
        "grouped = beer_aspect_rates.groupByKey() ### Grouping by the key (which is the 'review/overall')\n",
        "mean_rates_rdd = grouped.mapValues(lambda x: mean_value_computation(x)) ### mapping through 'grouped' rdd then calulate all mean values\n",
        "\n",
        "MRR_ascending = mean_rates_rdd.sortByKey()\n",
        "\n",
        "print(MRR_ascending.collect())\n",
        "\n",
        "def cos_sim(user_rates):\n",
        "  Collection_AR = user_rates.collect()\n",
        "\n",
        "  cosine_similarities = user_rates.map(lambda x : [((i, x[0]), cosine_similarity(x[1] , v)) for i, v in Collection_AR]).flatMap(lambda x : (i for i in x))\n",
        "\n",
        "  return cosine_similarities\n",
        "\n",
        "\n",
        "cos_sim_PUAR = cos_sim(MRR_ascending)\n",
        "print(cos_sim_PUAR.take(5))\n",
        "\n",
        "time_end = time.time()\n",
        "print(f\"elapsed time is {time_end-time_start}\")"
      ],
      "metadata": {
        "colab": {
          "base_uri": "https://localhost:8080/"
        },
        "id": "mB4inx7a4eCE",
        "outputId": "e7e3d7a9-df82-4fb8-c577-b89cb394ed13"
      },
      "execution_count": null,
      "outputs": [
        {
          "output_type": "stream",
          "name": "stdout",
          "text": [
            "Overwriting project_beeradvocate.py\n"
          ]
        }
      ]
    },
    {
      "cell_type": "markdown",
      "source": [
        "## Edit the cell to add your USERNAME"
      ],
      "metadata": {
        "id": "94Hd9Pe0BkBp"
      }
    },
    {
      "cell_type": "code",
      "source": [
        "USERNAME= 'moses' #You need to set this to a string of your \"username\", i.e. USERNAME=\"jatlas\"\n",
        "%env REGION=australia-southeast1\n",
        "%env ZONE=australia-southeast1-a\n",
        "%env PROJECT=data301-2023-$USERNAME\n",
        "%env CLUSTER=data301-2023-$USERNAME-project-cluster\n",
        "%env BUCKET=data301-2023-$USERNAME-project-bucket"
      ],
      "metadata": {
        "colab": {
          "base_uri": "https://localhost:8080/"
        },
        "id": "pyVfVihqBpHg",
        "outputId": "1f90ecee-f630-4610-e9f4-c3e8e68560e6"
      },
      "execution_count": null,
      "outputs": [
        {
          "output_type": "stream",
          "name": "stdout",
          "text": [
            "env: REGION=australia-southeast1\n",
            "env: ZONE=australia-southeast1-a\n",
            "env: PROJECT=data301-2023-moses\n",
            "env: CLUSTER=data301-2023-moses-project-cluster\n",
            "env: BUCKET=data301-2023-moses-project-bucket\n"
          ]
        }
      ]
    },
    {
      "cell_type": "markdown",
      "source": [
        "## Run code to setup google cloud project and storage bucket."
      ],
      "metadata": {
        "id": "o7xiPj6bB0bJ"
      }
    },
    {
      "cell_type": "code",
      "source": [
        "!python3 -m pip install google-cloud-dataproc[libcst]"
      ],
      "metadata": {
        "colab": {
          "base_uri": "https://localhost:8080/"
        },
        "id": "Z5os50PhB1fI",
        "outputId": "1b26e076-14bd-4494-93d7-7eef49e8d25d"
      },
      "execution_count": null,
      "outputs": [
        {
          "output_type": "stream",
          "name": "stdout",
          "text": [
            "Looking in indexes: https://pypi.org/simple, https://us-python.pkg.dev/colab-wheels/public/simple/\n",
            "Requirement already satisfied: google-cloud-dataproc[libcst] in /usr/local/lib/python3.10/dist-packages (5.4.1)\n",
            "\u001b[33mWARNING: google-cloud-dataproc 5.4.1 does not provide the extra 'libcst'\u001b[0m\u001b[33m\n",
            "\u001b[0mRequirement already satisfied: google-api-core[grpc]!=2.0.*,!=2.1.*,!=2.10.*,!=2.2.*,!=2.3.*,!=2.4.*,!=2.5.*,!=2.6.*,!=2.7.*,!=2.8.*,!=2.9.*,<3.0.0dev,>=1.34.0 in /usr/local/lib/python3.10/dist-packages (from google-cloud-dataproc[libcst]) (2.11.0)\n",
            "Requirement already satisfied: proto-plus<2.0.0dev,>=1.22.0 in /usr/local/lib/python3.10/dist-packages (from google-cloud-dataproc[libcst]) (1.22.2)\n",
            "Requirement already satisfied: protobuf!=3.20.0,!=3.20.1,!=4.21.0,!=4.21.1,!=4.21.2,!=4.21.3,!=4.21.4,!=4.21.5,<5.0.0dev,>=3.19.5 in /usr/local/lib/python3.10/dist-packages (from google-cloud-dataproc[libcst]) (3.20.3)\n",
            "Requirement already satisfied: grpc-google-iam-v1<1.0.0dev,>=0.12.4 in /usr/local/lib/python3.10/dist-packages (from google-cloud-dataproc[libcst]) (0.12.6)\n",
            "Requirement already satisfied: googleapis-common-protos<2.0dev,>=1.56.2 in /usr/local/lib/python3.10/dist-packages (from google-api-core[grpc]!=2.0.*,!=2.1.*,!=2.10.*,!=2.2.*,!=2.3.*,!=2.4.*,!=2.5.*,!=2.6.*,!=2.7.*,!=2.8.*,!=2.9.*,<3.0.0dev,>=1.34.0->google-cloud-dataproc[libcst]) (1.59.0)\n",
            "Requirement already satisfied: google-auth<3.0dev,>=2.14.1 in /usr/local/lib/python3.10/dist-packages (from google-api-core[grpc]!=2.0.*,!=2.1.*,!=2.10.*,!=2.2.*,!=2.3.*,!=2.4.*,!=2.5.*,!=2.6.*,!=2.7.*,!=2.8.*,!=2.9.*,<3.0.0dev,>=1.34.0->google-cloud-dataproc[libcst]) (2.17.3)\n",
            "Requirement already satisfied: requests<3.0.0dev,>=2.18.0 in /usr/local/lib/python3.10/dist-packages (from google-api-core[grpc]!=2.0.*,!=2.1.*,!=2.10.*,!=2.2.*,!=2.3.*,!=2.4.*,!=2.5.*,!=2.6.*,!=2.7.*,!=2.8.*,!=2.9.*,<3.0.0dev,>=1.34.0->google-cloud-dataproc[libcst]) (2.27.1)\n",
            "Requirement already satisfied: grpcio<2.0dev,>=1.33.2 in /usr/local/lib/python3.10/dist-packages (from google-api-core[grpc]!=2.0.*,!=2.1.*,!=2.10.*,!=2.2.*,!=2.3.*,!=2.4.*,!=2.5.*,!=2.6.*,!=2.7.*,!=2.8.*,!=2.9.*,<3.0.0dev,>=1.34.0->google-cloud-dataproc[libcst]) (1.54.0)\n",
            "Requirement already satisfied: grpcio-status<2.0dev,>=1.33.2 in /usr/local/lib/python3.10/dist-packages (from google-api-core[grpc]!=2.0.*,!=2.1.*,!=2.10.*,!=2.2.*,!=2.3.*,!=2.4.*,!=2.5.*,!=2.6.*,!=2.7.*,!=2.8.*,!=2.9.*,<3.0.0dev,>=1.34.0->google-cloud-dataproc[libcst]) (1.48.2)\n",
            "Requirement already satisfied: cachetools<6.0,>=2.0.0 in /usr/local/lib/python3.10/dist-packages (from google-auth<3.0dev,>=2.14.1->google-api-core[grpc]!=2.0.*,!=2.1.*,!=2.10.*,!=2.2.*,!=2.3.*,!=2.4.*,!=2.5.*,!=2.6.*,!=2.7.*,!=2.8.*,!=2.9.*,<3.0.0dev,>=1.34.0->google-cloud-dataproc[libcst]) (5.3.0)\n",
            "Requirement already satisfied: pyasn1-modules>=0.2.1 in /usr/local/lib/python3.10/dist-packages (from google-auth<3.0dev,>=2.14.1->google-api-core[grpc]!=2.0.*,!=2.1.*,!=2.10.*,!=2.2.*,!=2.3.*,!=2.4.*,!=2.5.*,!=2.6.*,!=2.7.*,!=2.8.*,!=2.9.*,<3.0.0dev,>=1.34.0->google-cloud-dataproc[libcst]) (0.3.0)\n",
            "Requirement already satisfied: six>=1.9.0 in /usr/local/lib/python3.10/dist-packages (from google-auth<3.0dev,>=2.14.1->google-api-core[grpc]!=2.0.*,!=2.1.*,!=2.10.*,!=2.2.*,!=2.3.*,!=2.4.*,!=2.5.*,!=2.6.*,!=2.7.*,!=2.8.*,!=2.9.*,<3.0.0dev,>=1.34.0->google-cloud-dataproc[libcst]) (1.16.0)\n",
            "Requirement already satisfied: rsa<5,>=3.1.4 in /usr/local/lib/python3.10/dist-packages (from google-auth<3.0dev,>=2.14.1->google-api-core[grpc]!=2.0.*,!=2.1.*,!=2.10.*,!=2.2.*,!=2.3.*,!=2.4.*,!=2.5.*,!=2.6.*,!=2.7.*,!=2.8.*,!=2.9.*,<3.0.0dev,>=1.34.0->google-cloud-dataproc[libcst]) (4.9)\n",
            "Requirement already satisfied: urllib3<1.27,>=1.21.1 in /usr/local/lib/python3.10/dist-packages (from requests<3.0.0dev,>=2.18.0->google-api-core[grpc]!=2.0.*,!=2.1.*,!=2.10.*,!=2.2.*,!=2.3.*,!=2.4.*,!=2.5.*,!=2.6.*,!=2.7.*,!=2.8.*,!=2.9.*,<3.0.0dev,>=1.34.0->google-cloud-dataproc[libcst]) (1.26.15)\n",
            "Requirement already satisfied: certifi>=2017.4.17 in /usr/local/lib/python3.10/dist-packages (from requests<3.0.0dev,>=2.18.0->google-api-core[grpc]!=2.0.*,!=2.1.*,!=2.10.*,!=2.2.*,!=2.3.*,!=2.4.*,!=2.5.*,!=2.6.*,!=2.7.*,!=2.8.*,!=2.9.*,<3.0.0dev,>=1.34.0->google-cloud-dataproc[libcst]) (2022.12.7)\n",
            "Requirement already satisfied: charset-normalizer~=2.0.0 in /usr/local/lib/python3.10/dist-packages (from requests<3.0.0dev,>=2.18.0->google-api-core[grpc]!=2.0.*,!=2.1.*,!=2.10.*,!=2.2.*,!=2.3.*,!=2.4.*,!=2.5.*,!=2.6.*,!=2.7.*,!=2.8.*,!=2.9.*,<3.0.0dev,>=1.34.0->google-cloud-dataproc[libcst]) (2.0.12)\n",
            "Requirement already satisfied: idna<4,>=2.5 in /usr/local/lib/python3.10/dist-packages (from requests<3.0.0dev,>=2.18.0->google-api-core[grpc]!=2.0.*,!=2.1.*,!=2.10.*,!=2.2.*,!=2.3.*,!=2.4.*,!=2.5.*,!=2.6.*,!=2.7.*,!=2.8.*,!=2.9.*,<3.0.0dev,>=1.34.0->google-cloud-dataproc[libcst]) (3.4)\n",
            "Requirement already satisfied: pyasn1<0.6.0,>=0.4.6 in /usr/local/lib/python3.10/dist-packages (from pyasn1-modules>=0.2.1->google-auth<3.0dev,>=2.14.1->google-api-core[grpc]!=2.0.*,!=2.1.*,!=2.10.*,!=2.2.*,!=2.3.*,!=2.4.*,!=2.5.*,!=2.6.*,!=2.7.*,!=2.8.*,!=2.9.*,<3.0.0dev,>=1.34.0->google-cloud-dataproc[libcst]) (0.5.0)\n"
          ]
        }
      ]
    },
    {
      "cell_type": "code",
      "source": [
        "!gcloud auth login"
      ],
      "metadata": {
        "colab": {
          "base_uri": "https://localhost:8080/"
        },
        "id": "ZHulNLI1CMSo",
        "outputId": "474ede7d-5acf-43b3-9690-e51d1aafb893"
      },
      "execution_count": null,
      "outputs": [
        {
          "output_type": "stream",
          "name": "stdout",
          "text": [
            "Go to the following link in your browser:\n",
            "\n",
            "    https://accounts.google.com/o/oauth2/auth?response_type=code&client_id=32555940559.apps.googleusercontent.com&redirect_uri=https%3A%2F%2Fsdk.cloud.google.com%2Fauthcode.html&scope=openid+https%3A%2F%2Fwww.googleapis.com%2Fauth%2Fuserinfo.email+https%3A%2F%2Fwww.googleapis.com%2Fauth%2Fcloud-platform+https%3A%2F%2Fwww.googleapis.com%2Fauth%2Fappengine.admin+https%3A%2F%2Fwww.googleapis.com%2Fauth%2Fsqlservice.login+https%3A%2F%2Fwww.googleapis.com%2Fauth%2Fcompute+https%3A%2F%2Fwww.googleapis.com%2Fauth%2Faccounts.reauth&state=0pRnf1TaNdgn0gQkbw1806lTi81jEc&prompt=consent&access_type=offline&code_challenge=_4abZA3Es2WTHeRMiKL7H9aHCEbFQuN9igSqkq1AuZ4&code_challenge_method=S256\n",
            "\n",
            "Enter authorization code: 4/0AbUR2VOU1hcQGua6JYoJXZUxNgChHnIwHJ6JlrLAChaH32SBBy7PdZhvXktu_cx4b5rWsA\n",
            "\n",
            "You are now logged in as [mosesvelano510@gmail.com].\n",
            "Your current project is [data301-2023-moses].  You can change this setting by running:\n",
            "  $ gcloud config set project PROJECT_ID\n"
          ]
        }
      ]
    },
    {
      "cell_type": "code",
      "source": [
        "!gcloud config set project $PROJECT"
      ],
      "metadata": {
        "colab": {
          "base_uri": "https://localhost:8080/"
        },
        "id": "LJWDh_0qCoMZ",
        "outputId": "f753d97a-b546-481e-9a83-40c4525c4572"
      },
      "execution_count": null,
      "outputs": [
        {
          "output_type": "stream",
          "name": "stdout",
          "text": [
            "Updated property [core/project].\n"
          ]
        }
      ]
    },
    {
      "cell_type": "code",
      "source": [
        "!gcloud services enable dataproc.googleapis.com cloudresourcemanager.googleapis.com"
      ],
      "metadata": {
        "colab": {
          "base_uri": "https://localhost:8080/"
        },
        "id": "Fv5e_cT_C-vk",
        "outputId": "8dfef463-ab56-45b8-e8fb-41517013cc9e"
      },
      "execution_count": null,
      "outputs": [
        {
          "output_type": "stream",
          "name": "stdout",
          "text": [
            "Operation \"operations/acat.p2-316272433062-ac042733-494d-495b-a151-af60ac574904\" finished successfully.\n"
          ]
        }
      ]
    },
    {
      "cell_type": "code",
      "source": [
        "!gsutil mb -c regional -l $REGION -p $PROJECT gs://$BUCKET"
      ],
      "metadata": {
        "colab": {
          "base_uri": "https://localhost:8080/"
        },
        "id": "tfeJj1BwC-_C",
        "outputId": "423828cc-cf21-474c-bc67-e37224c5ae70"
      },
      "execution_count": null,
      "outputs": [
        {
          "output_type": "stream",
          "name": "stdout",
          "text": [
            "Creating gs://data301-2023-moses-project-bucket/...\n"
          ]
        }
      ]
    },
    {
      "cell_type": "code",
      "source": [
        "!gcloud storage cp ./beeradvocate_reviews.jsonl gs://$BUCKET"
      ],
      "metadata": {
        "colab": {
          "base_uri": "https://localhost:8080/"
        },
        "id": "5yPw77VOC_Nc",
        "outputId": "157c75f2-1e63-4944-c74b-3287f9ec162f"
      },
      "execution_count": null,
      "outputs": [
        {
          "output_type": "stream",
          "name": "stdout",
          "text": [
            "\u001b[1;33mWARNING:\u001b[0m Destination has a default storage class other than \"STANDARD\", hence parallel composite upload will not be performed. If you would like to disable this check, run: gcloud config set storage/parallel_composite_upload_compatibility_check=False\n",
            "Copying file://./beeradvocate_reviews.jsonl to gs://data301-2023-moses-project-bucket/beeradvocate_reviews.jsonl\n",
            "\n",
            "Average throughput: 19.4MiB/s\n"
          ]
        }
      ]
    },
    {
      "cell_type": "code",
      "source": [
        "### This is the original configuration we are again using 1 master/worker node with 1 vCPUs and 6GB of memory.\n",
        "# !gcloud dataproc clusters create $CLUSTER --region=$REGION --bucket=$BUCKET --zone=$ZONE \\\n",
        "# --master-machine-type=custom-1-6144 \\\n",
        "# --image-version=1.5 --max-age=30m --single-node\n",
        "\n",
        "## Modify this configuration the same way we did in lab3 for P=4, P=8, and P=16\n",
        "!gcloud dataproc clusters create $CLUSTER --region=$REGION --bucket=$BUCKET --zone=$ZONE \\\n",
        "--master-machine-type=n1-standard-2 --worker-machine-type=n1-standard-8 \\\n",
        "--image-version=1.5 --max-age=30m --num-masters=1 --num-workers=2"
      ],
      "metadata": {
        "colab": {
          "base_uri": "https://localhost:8080/"
        },
        "id": "eNA1PL3JQv58",
        "outputId": "dbcf26da-9c6a-4f32-e2d3-1e593a48f2f4"
      },
      "execution_count": null,
      "outputs": [
        {
          "output_type": "stream",
          "name": "stdout",
          "text": [
            "Waiting on operation [projects/data301-2023-moses/regions/australia-southeast1/operations/ffb79ada-7615-3709-ad07-754c288eef6f].\n",
            "\n",
            "\u001b[1;33mWARNING:\u001b[0m Consider using Auto Zone rather than selecting a zone manually. See https://cloud.google.com/dataproc/docs/concepts/configuring-clusters/auto-zone\n",
            "\u001b[1;33mWARNING:\u001b[0m Permissions are missing for the default service account '316272433062-compute@developer.gserviceaccount.com', missing permissions: [storage.objects.get, storage.objects.update] on the staging_bucket 'projects/_/buckets/data301-2023-moses-project-bucket'. This usually happens when a custom resource (ex: custom staging bucket) or a user-managed VM Service account has been provided and the default/user-managed service account hasn't been granted enough permissions on the resource. See https://cloud.google.com/dataproc/docs/concepts/configuring-clusters/service-accounts#VM_service_account.\n",
            "\u001b[1;33mWARNING:\u001b[0m Permissions are missing for the default service account '316272433062-compute@developer.gserviceaccount.com', missing permissions: [storage.objects.get, storage.objects.update] on the temp_bucket 'projects/_/buckets/dataproc-temp-au-southeast1-316272433062-rekselxp'. This usually happens when a custom resource (ex: custom staging bucket) or a user-managed VM Service account has been provided and the default/user-managed service account hasn't been granted enough permissions on the resource. See https://cloud.google.com/dataproc/docs/concepts/configuring-clusters/service-accounts#VM_service_account.\n",
            "Created [https://dataproc.googleapis.com/v1/projects/data301-2023-moses/regions/australia-southeast1/clusters/data301-2023-moses-project-cluster] Cluster placed in zone [australia-southeast1-a].\n"
          ]
        }
      ]
    },
    {
      "cell_type": "code",
      "source": [
        "!gcloud dataproc jobs submit pyspark --cluster=$CLUSTER --region=$REGION project_beeradvocate.py -- gs://$BUCKET/beeradvocate_reviews.jsonl"
      ],
      "metadata": {
        "colab": {
          "base_uri": "https://localhost:8080/"
        },
        "id": "X2bXDFjbQzYH",
        "outputId": "d4b3395e-12a2-43a9-ca2d-c95d322dbe0d"
      },
      "execution_count": null,
      "outputs": [
        {
          "output_type": "stream",
          "name": "stdout",
          "text": [
            "Job [f1bfa17184b64a69bde925d64629bc14] submitted.\n",
            "Waiting for job output...\n",
            "23/06/02 07:13:34 INFO org.apache.spark.SparkEnv: Registering MapOutputTracker\n",
            "23/06/02 07:13:34 INFO org.apache.spark.SparkEnv: Registering BlockManagerMaster\n",
            "23/06/02 07:13:34 INFO org.apache.spark.SparkEnv: Registering OutputCommitCoordinator\n",
            "23/06/02 07:13:34 INFO org.spark_project.jetty.util.log: Logging initialized @5224ms to org.spark_project.jetty.util.log.Slf4jLog\n",
            "23/06/02 07:13:34 INFO org.spark_project.jetty.server.Server: jetty-9.4.z-SNAPSHOT; built: unknown; git: unknown; jvm 1.8.0_362-b09\n",
            "23/06/02 07:13:34 INFO org.spark_project.jetty.server.Server: Started @5392ms\n",
            "23/06/02 07:13:34 INFO org.spark_project.jetty.server.AbstractConnector: Started ServerConnector@24f5ea3d{HTTP/1.1, (http/1.1)}{0.0.0.0:39955}\n",
            "23/06/02 07:13:36 INFO org.apache.hadoop.yarn.client.RMProxy: Connecting to ResourceManager at data301-2023-moses-project-cluster-m/10.152.0.16:8032\n",
            "23/06/02 07:13:37 INFO org.apache.hadoop.yarn.client.AHSProxy: Connecting to Application History server at data301-2023-moses-project-cluster-m/10.152.0.16:10200\n",
            "23/06/02 07:13:37 INFO org.apache.hadoop.conf.Configuration: resource-types.xml not found\n",
            "23/06/02 07:13:37 INFO org.apache.hadoop.yarn.util.resource.ResourceUtils: Unable to find 'resource-types.xml'.\n",
            "23/06/02 07:13:37 INFO org.apache.hadoop.yarn.util.resource.ResourceUtils: Adding resource type - name = memory-mb, units = Mi, type = COUNTABLE\n",
            "23/06/02 07:13:37 INFO org.apache.hadoop.yarn.util.resource.ResourceUtils: Adding resource type - name = vcores, units = , type = COUNTABLE\n",
            "23/06/02 07:13:40 INFO org.apache.hadoop.yarn.client.api.impl.YarnClientImpl: Submitted application application_1685689922251_0001\n",
            "23/06/02 07:13:54 INFO org.apache.hadoop.mapreduce.lib.input.FileInputFormat: Total input files to process : 1\n",
            "23/06/02 07:13:54 INFO org.apache.hadoop.mapreduce.lib.input.FileInputFormat: Total input files to process : 1\n",
            "23/06/02 07:13:54 INFO org.apache.hadoop.mapreduce.lib.input.CombineFileInputFormat: DEBUG: Terminated node allocation with : CompletedNodes: 1, size left: 0\n",
            "[(('big', 4.5), 2), (('thanks', 4.5), 1), (('n', 4.5), 1)]\n",
            "[(('big', 4.5), 438), (('thanks', 4.5), 190), (('n', 4.5), 9)]\n",
            "[(4.5, 438), (4.5, 190), (4.5, 9)]\n",
            "{4.5: 2434, 4.0: 4343, 3.5: 2161, 5.0: 714, 1.0: 92, 2.5: 332, 1.5: 107, 2.0: 232, 3.0: 1035}\n",
            "[(('big', 4.5), 0.1799506984387839), (('thanks', 4.5), 0.0780608052588332), (('n', 4.5), 0.0036976170912078883)]\n",
            "[(1.0, (3, 2, 2, 2)), (1.5, (3, 3, 2, 2)), (2.0, (3, 3, 3, 3)), (2.5, (4, 3, 3, 3)), (3.0, (4, 4, 4, 4)), (3.5, (4, 4, 4, 4)), (4.0, (4, 4, 4, 4)), (4.5, (5, 5, 5, 5)), (5.0, (5, 5, 5, 5))]\n",
            "[((1.0, 1.0), 1.0), ((1.5, 1.0), 0.9843091327750998), ((2.0, 1.0), 0.9819805060619657), ((2.5, 1.0), 0.9983374884595828), ((3.0, 1.0), 0.9819805060619657)]\n",
            "elapsed time is 41.10582995414734\n",
            "23/06/02 07:14:32 INFO org.spark_project.jetty.server.AbstractConnector: Stopped Spark@24f5ea3d{HTTP/1.1, (http/1.1)}{0.0.0.0:0}\n",
            "Job [f1bfa17184b64a69bde925d64629bc14] finished successfully.\n",
            "done: true\n",
            "driverControlFilesUri: gs://data301-2023-moses-project-bucket/google-cloud-dataproc-metainfo/1e954152-be22-40ac-97b2-b81982835c58/jobs/f1bfa17184b64a69bde925d64629bc14/\n",
            "driverOutputResourceUri: gs://data301-2023-moses-project-bucket/google-cloud-dataproc-metainfo/1e954152-be22-40ac-97b2-b81982835c58/jobs/f1bfa17184b64a69bde925d64629bc14/driveroutput\n",
            "jobUuid: e4308ad2-6b0b-31dd-aedb-68986366eb84\n",
            "placement:\n",
            "  clusterName: data301-2023-moses-project-cluster\n",
            "  clusterUuid: 1e954152-be22-40ac-97b2-b81982835c58\n",
            "pysparkJob:\n",
            "  args:\n",
            "  - gs://data301-2023-moses-project-bucket/beeradvocate_reviews.jsonl\n",
            "  mainPythonFileUri: gs://data301-2023-moses-project-bucket/google-cloud-dataproc-metainfo/1e954152-be22-40ac-97b2-b81982835c58/jobs/f1bfa17184b64a69bde925d64629bc14/staging/project_beeradvocate.py\n",
            "reference:\n",
            "  jobId: f1bfa17184b64a69bde925d64629bc14\n",
            "  projectId: data301-2023-moses\n",
            "status:\n",
            "  state: DONE\n",
            "  stateStartTime: '2023-06-02T07:14:35.845994Z'\n",
            "statusHistory:\n",
            "- state: PENDING\n",
            "  stateStartTime: '2023-06-02T07:13:26.482969Z'\n",
            "- state: SETUP_DONE\n",
            "  stateStartTime: '2023-06-02T07:13:26.517566Z'\n",
            "- details: Agent reported job success\n",
            "  state: RUNNING\n",
            "  stateStartTime: '2023-06-02T07:13:27.279824Z'\n",
            "yarnApplications:\n",
            "- name: project_beeradvocate.py\n",
            "  progress: 1.0\n",
            "  state: FINISHED\n",
            "  trackingUrl: http://data301-2023-moses-project-cluster-m:8088/proxy/application_1685689922251_0001/\n"
          ]
        }
      ]
    },
    {
      "cell_type": "code",
      "source": [
        "!gcloud dataproc clusters delete $CLUSTER --region=$REGION --quiet"
      ],
      "metadata": {
        "id": "Ggdt3nKsRAmZ",
        "colab": {
          "base_uri": "https://localhost:8080/"
        },
        "outputId": "11c44618-6a09-4094-9fd7-1cd2705f32f5"
      },
      "execution_count": null,
      "outputs": [
        {
          "output_type": "stream",
          "name": "stdout",
          "text": [
            "Waiting on operation [projects/data301-2023-moses/regions/australia-southeast1/operations/70e03270-3061-3d73-baa3-c552c6ed05b7].\n",
            "Deleted [https://dataproc.googleapis.com/v1/projects/data301-2023-moses/regions/australia-southeast1/clusters/data301-2023-moses-project-cluster].\n"
          ]
        }
      ]
    },
    {
      "cell_type": "code",
      "source": [
        "import matplotlib.pyplot as plt\n",
        "\n",
        "# Define the times and processors\n",
        "times = [71.2781274318695, 59.14844512939453, 42.140639305114746, 41.10582995414734]\n",
        "processors = [1, 4, 8, 16]\n",
        "\n",
        "# Create a line plot\n",
        "plt.plot(processors, times, marker = 'o')\n",
        "\n",
        "# Add labels and title\n",
        "plt.title(\"Gustafon's Law\")\n",
        "plt.ylabel(\"Speedup (s)\")\n",
        "plt.xlabel(\"Number of Processors (P)\")\n",
        "\n",
        "# Display plot\n",
        "plt.show()"
      ],
      "metadata": {
        "id": "lL-tRcvSRCvx",
        "colab": {
          "base_uri": "https://localhost:8080/",
          "height": 471
        },
        "outputId": "c8ea44f8-7814-4355-93d1-0cd2cf1d086f"
      },
      "execution_count": null,
      "outputs": [
        {
          "output_type": "display_data",
          "data": {
            "text/plain": [
              "<Figure size 640x480 with 1 Axes>"
            ],
            "image/png": "[encoded data removed]"
          },
          "metadata": {}
        }
      ]
    },
    {
      "cell_type": "code",
      "source": [
        "problem_sizes = [50000, 100000, 200000, 500000]\n",
        "execution_times = [14.112447023391724, 14.622412204742432, 17.955886840820312, 18.083254098892212]  # Execution times in seconds\n",
        "\n",
        "# Plotting the scalability\n",
        "plt.plot(problem_sizes, execution_times, marker='o')\n",
        "plt.xlabel('Problem Size')\n",
        "plt.ylabel('Execution Time (s)')\n",
        "plt.title('Weak Scalability Plot')\n",
        "plt.grid(True)\n",
        "plt.show()"
      ],
      "metadata": {
        "colab": {
          "base_uri": "https://localhost:8080/",
          "height": 471
        },
        "id": "C1gSaNEs3oYh",
        "outputId": "61cc2b9e-9848-43b9-9884-4e306de8081a"
      },
      "execution_count": null,
      "outputs": [
        {
          "output_type": "display_data",
          "data": {
            "text/plain": [
              "<Figure size 640x480 with 1 Axes>"
            ],
            "image/png": "[encoded data removed]"
          },
          "metadata": {}
        }
      ]
    }
  ]
}