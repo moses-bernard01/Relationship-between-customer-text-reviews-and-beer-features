{
  "cells": [
    {
      "cell_type": "markdown",
      "metadata": {
        "id": "ALt3R3hMbaDN"
      },
      "source": [
        "## DATA301 Project"
      ]
    },
    {
      "cell_type": "markdown",
      "metadata": {
        "id": "S1W2wz1JY7O6"
      },
      "source": [
        "[BeerAdvocate Dataset](https://cseweb.ucsd.edu/~jmcauley/datasets.html#multi_aspect)\n",
        "\n",
        "The BeerAdvocate dataset was one of the provided datasets in their website consisting of reviews that cover various aspects that includes ratings. Among them, the most extensive datasets involve to beer reviews sourced from Ratebeer and Beeradvocate. These beer review datasets covers sensory aspects like taste, appearance, texture, and aroma."
      ]
    },
    {
      "cell_type": "markdown",
      "metadata": {
        "id": "0dU_0Tm_XPJs"
      },
      "source": [
        "##Loading the BeerAdvocate Data\n",
        "We will use a dataset called BeerAdvocate provided by the University of California San Diego (UCSD) research lab.\n"
      ]
    },
    {
      "cell_type": "code",
      "execution_count": null,
      "metadata": {
        "colab": {
          "base_uri": "https://localhost:8080/"
        },
        "id": "N1yZLe5-bja3",
        "outputId": "3763137d-d567-4332-905f-adf55e3a3d0f"
      },
      "outputs": [
        {
          "output_type": "stream",
          "name": "stdout",
          "text": [
            "File saved as sample_data/beeradvocate.json.gz\n"
          ]
        }
      ],
      "source": [
        "import urllib.request\n",
        "filename = 'sample_data/beeradvocate.json.gz'\n",
        "urllib.request.urlretrieve('https://datarepo.eng.ucsd.edu/mcauley_group/data/beer/beeradvocate.json.gz', filename) # The URL to the BeerAdvocate dataset\n",
        "print(f\"File saved as {filename}\")"
      ]
    },
    {
      "cell_type": "code",
      "execution_count": null,
      "metadata": {
        "colab": {
          "base_uri": "https://localhost:8080/"
        },
        "id": "68RI7uRpmc-5",
        "outputId": "e054cca9-0140-4225-fe2e-af8b6ff9770b"
      },
      "outputs": [
        {
          "output_type": "stream",
          "name": "stdout",
          "text": [
            "Looking in indexes: https://pypi.org/simple, https://us-python.pkg.dev/colab-wheels/public/simple/\n",
            "Collecting ijson\n",
            "  Downloading ijson-3.2.2-cp310-cp310-manylinux_2_17_x86_64.manylinux2014_x86_64.whl (112 kB)\n",
            "\u001b[2K     \u001b[90m━━━━━━━━━━━━━━━━━━━━━━━━━━━━━━━━━━━━━━\u001b[0m \u001b[32m112.7/112.7 kB\u001b[0m \u001b[31m11.0 MB/s\u001b[0m eta \u001b[36m0:00:00\u001b[0m\n",
            "\u001b[?25hInstalling collected packages: ijson\n",
            "Successfully installed ijson-3.2.2\n"
          ]
        }
      ],
      "source": [
        "!pip install ijson # Need to run this so we can run: import ijason"
      ]
    },
    {
      "cell_type": "code",
      "execution_count": null,
      "metadata": {
        "id": "a9WxbB5pi0ey"
      },
      "outputs": [],
      "source": [
        "# Importing pyhton functions and modules. Sourced from: https://colab.research.google.com/drive/1Zv6MARGQcrBbLHyjPVVMZVnRWsRnVMpV#scrollTo=feWoOrmt4Tja\n",
        "\n",
        "import os\n",
        "import json\n",
        "import gzip\n",
        "import pandas as pd\n",
        "from urllib.request import urlopen"
      ]
    },
    {
      "cell_type": "code",
      "execution_count": null,
      "metadata": {
        "id": "o5TSJASYghT_"
      },
      "outputs": [],
      "source": [
        "### DONT NEED THIS MAYBE\n",
        "### Sourced from: https://colab.research.google.com/drive/1Zv6MARGQcrBbLHyjPVVMZVnRWsRnVMpV#scrollTo=feWoOrmt4Tja\n",
        "\n",
        "#!wget https://datarepo.eng.ucsd.edu/sharknado/data/beer/beeradvocate.json.gz"
      ]
    },
    {
      "cell_type": "code",
      "execution_count": null,
      "metadata": {
        "colab": {
          "base_uri": "https://localhost:8080/"
        },
        "id": "0o2xxLxUvK5L",
        "outputId": "8b84d725-2494-4583-fadc-b6dfb4102984"
      },
      "outputs": [
        {
          "output_type": "stream",
          "name": "stdout",
          "text": [
            "<gzip _io.BufferedReader name='sample_data/beeradvocate.json.gz' 0x7f5ee8386aa0>\n"
          ]
        }
      ],
      "source": [
        "# This is to unzip the \"beeradcvocate.json.gz\" file. Sourced from: stackedoverflow\n",
        "# Then turn it into a JSON file format\n",
        "\n",
        "import gzip\n",
        "import shutil\n",
        "with gzip.open('sample_data/beeradvocate.json.gz', 'rb') as f_in:\n",
        "    with open('beeradvocate_reviews.json', 'wb') as f_out:\n",
        "\n",
        "        shutil.copyfileobj(f_in, f_out)\n",
        "        print(f_in)"
      ]
    },
    {
      "cell_type": "code",
      "execution_count": null,
      "metadata": {
        "colab": {
          "base_uri": "https://localhost:8080/"
        },
        "id": "8mHu38AptrZo",
        "outputId": "548921fc-d114-43e1-a2ce-afe5ad219309"
      },
      "outputs": [
        {
          "output_type": "stream",
          "name": "stdout",
          "text": [
            "{'beer/name': 'Sausa Weizen', 'beer/beerId': '47986', 'beer/brewerId': '10325', 'beer/ABV': '5.00', 'beer/style': 'Hefeweizen', 'review/appearance': '2.5', 'review/aroma': '2', 'review/palate': '1.5', 'review/taste': '1.5', 'review/overall': '1.5', 'review/time': '1234817823', 'review/profileName': 'stcules', 'review/text': 'A lot of foam. But a lot.\\tIn the smell some banana, and then lactic and tart. Not a good start.\\tQuite dark orange in color, with a lively carbonation (now visible, under the foam).\\tAgain tending to lactic sourness.\\tSame for the taste. With some yeast and banana.'}\n",
            "{'beer/name': 'Red Moon', 'beer/beerId': '48213', 'beer/brewerId': '10325', 'beer/ABV': '6.20', 'beer/style': 'English Strong Ale', 'review/appearance': '3', 'review/aroma': '2.5', 'review/palate': '3', 'review/taste': '3', 'review/overall': '3', 'review/time': '1235915097', 'review/profileName': 'stcules', 'review/text': 'Dark red color, light beige foam, average.\\tIn the smell malt and caramel, not really light.\\tAgain malt and caramel in the taste, not bad in the end.\\tMaybe a note of honey in teh back, and a light fruitiness.\\tAverage body.\\tIn the aftertaste a light bitterness, with the malt and red fruit.\\tNothing exceptional, but not bad, drinkable beer.'}\n",
            "{'beer/name': 'Black Horse Black Beer', 'beer/beerId': '48215', 'beer/brewerId': '10325', 'beer/ABV': '6.50', 'beer/style': 'Foreign / Export Stout', 'review/appearance': '3', 'review/aroma': '2.5', 'review/palate': '3', 'review/taste': '3', 'review/overall': '3', 'review/time': '1235916604', 'review/profileName': 'stcules', 'review/text': 'Almost totally black. Beige foam, quite compact, not bad.\\tLight smell, just a bit of roast, and some hop. A bit too light.\\tThe taste is light oo, and drinkable, with some malt, roast, hints of coffee.\\tNothing exceptional, but after all drinkable and pleasant.\\tLight to average body.\\tIn the aftertaste some dust, somr roast, hint of caramel, and a bit of bitterness.\\tNo defect, drinkable, not bad.'}\n",
            "{'beer/name': 'Sausa Pils', 'beer/beerId': '47969', 'beer/brewerId': '10325', 'beer/ABV': '5.00', 'beer/style': 'German Pilsener', 'review/appearance': '3.5', 'review/aroma': '3', 'review/palate': '2.5', 'review/taste': '3', 'review/overall': '3', 'review/time': '1234725145', 'review/profileName': 'stcules', 'review/text': 'Golden yellow color. White, compact foam, quite creamy. Good appearance.\\tFresh smell, with good hop. Quite dry, with a good grassy note. Hay. Fresh and pleasant.\\tMore sweet in the mouth, with honey. The hop comes back in the end, and in the aftertaste.\\tNot bad, but a bit too sweet for a pils.\\tIn the end some vanilla and camomile note.\\tIn the aftertaste, too. Though the hop, a bit too sweet.\\tHonest.'}\n",
            "{'beer/name': 'Cauldron DIPA', 'beer/beerId': '64883', 'beer/brewerId': '1075', 'beer/ABV': '7.70', 'beer/style': 'American Double / Imperial IPA', 'review/appearance': '4', 'review/aroma': '4.5', 'review/palate': '4', 'review/taste': '4.5', 'review/overall': '4', 'review/time': '1293735206', 'review/profileName': 'johnmichaelsen', 'review/text': \"According to the website, the style for the Caldera Cauldron changes every year. The current release is a DIPA, which frankly is the only cauldron I'm familiar with (it was an IPA/DIPA the last time I ordered a cauldron at the horsebrass several years back). In any event... at the Horse Brass yesterday.\\t\\tThe beer pours an orange copper color with good head retention and lacing. The nose is all hoppy IPA goodness, showcasing a huge aroma of dry citrus, pine and sandlewood. The flavor profile replicates the nose pretty closely in this West Coast all the way DIPA. This DIPA is not for the faint of heart and is a bit much even for a hophead like myslf. The finish is quite dry and hoppy, and there's barely enough sweet malt to balance and hold up the avalanche of hoppy bitterness in this beer. Mouthfeel is actually fairly light, with a long, persistentely bitter finish. Drinkability is good, with the alcohol barely noticeable in this well crafted beer. Still, this beer is so hugely hoppy/bitter, it's really hard for me to imagine ordering more than a single glass. Regardless, this is a very impressive beer from the folks at Caldera.\"}\n",
            "{'beer/name': 'Caldera Ginger Beer', 'beer/beerId': '52159', 'beer/brewerId': '1075', 'beer/ABV': '4.70', 'beer/style': 'Herbed / Spiced Beer', 'review/appearance': '3.5', 'review/aroma': '3.5', 'review/palate': '3', 'review/taste': '3.5', 'review/overall': '3', 'review/time': '1325524659', 'review/profileName': 'oline73', 'review/text': \"Poured from the bottle into a Chimay goblet.\\t\\tAppearance: Pours a slightly cloudy yellow/orange color with a half finger of fluffy white head. The head fades to a small layer on top of the pour.\\t\\tSmell: Very light and crisp. I'm definitely picking up the ginger, but it's not overly powerful. There is a slight sweetness from the malt as well.\\t\\tTaste: Very light and refreshing. The ginger shows up right away and then fades towards the finish of the sip. The finish is malty and bread like. \\t\\tMouthfeel: The body is on the thin side with smooth carbonation and a very dry finish.\\t\\tOverall: This is a light and refreshing beer, but nothing spectacular. The amount of ginger is nice, but I would have liked to have more going on.\"}\n",
            "{'beer/name': 'Caldera Ginger Beer', 'beer/beerId': '52159', 'beer/brewerId': '1075', 'beer/ABV': '4.70', 'beer/style': 'Herbed / Spiced Beer', 'review/appearance': '3.5', 'review/aroma': '3.5', 'review/palate': '4', 'review/taste': '4', 'review/overall': '3.5', 'review/time': '1318991115', 'review/profileName': 'Reidrover', 'review/text': '22 oz bottle from \"Lifesource\" Salem. $3.95 Nice golden clear beer body with a nice sized frothy/creamy white head. Ok aromas..mainlly a bit of ginger speice and some bready malt..simple nice Taste very nice indeed..nice spicy ginger backed with slightly caramel maltiness..simple again but i like . Liked the mouthfeel of this one..very forward carbonation which helps the ginger effect and a lingering ginger in the after taste. Overall a simple ginger brew .I liked it'}\n",
            "{'beer/name': 'Caldera Ginger Beer', 'beer/beerId': '52159', 'beer/brewerId': '1075', 'beer/ABV': '4.70', 'beer/style': 'Herbed / Spiced Beer', 'review/appearance': '3.5', 'review/aroma': '2.5', 'review/palate': '2', 'review/taste': '3.5', 'review/overall': '3', 'review/time': '1306276018', 'review/profileName': 'alpinebryant', 'review/text': 'Bottle says \"Malt beverage brewed with Ginger and ginger added\" Sounds redundant to me, but lets move on.\\t\\tPours a bud light yellow with a tiny white head of small bubbles. The beer is almost as clear as a glass of water with some food coloring in it.\\t\\tAroma of light ginger, a very light malt aroma but primarily odorless on the malt side. I wouldn\\'t be completely surprised if there were some adjuncts in here because of the lack of underlying malt flavors. Taste is of a light adjunct lager with a dosing of ginger. Not surprising there. \\t\\tThis is a light session beer, good for the warmer days of spring / summer. Mouthfeel is extremely light, high carbonation.\\t\\tOverall decent. This would be great if you were drinking beers on draft at the bar with some friends just hanging out. I wouldn\\'t necessarily seek it out though to drink out of a bottle.'}\n",
            "{'beer/name': 'Caldera Ginger Beer', 'beer/beerId': '52159', 'beer/brewerId': '1075', 'beer/ABV': '4.70', 'beer/style': 'Herbed / Spiced Beer', 'review/appearance': '3.5', 'review/aroma': '3', 'review/palate': '3.5', 'review/taste': '4', 'review/overall': '4', 'review/time': '1290454503', 'review/profileName': 'LordAdmNelson', 'review/text': \"I'm not sure why I picked this up... I like ginger, and it was reasonably cheap compared to the other beers I was looking at. Pours a pale golden color with smallish head. Nose is largely uneventful, some ginger in there, a bit of pear, but mainly normal lager. Taste is pretty good, bringing a bit more of the ginger to the fore. MF was a bit fizzy, not terrible though. Easy drinker, I had no problem finishing the bomber. Interesting, but I probably won't get it again.\"}\n",
            "{'beer/name': 'Caldera Ginger Beer', 'beer/beerId': '52159', 'beer/brewerId': '1075', 'beer/ABV': '4.70', 'beer/style': 'Herbed / Spiced Beer', 'review/appearance': '5', 'review/aroma': '3.5', 'review/palate': '4', 'review/taste': '4', 'review/overall': '4.5', 'review/time': '1285632924', 'review/profileName': 'augustgarage', 'review/text': 'Poured from a 22oz bomber into my Drie Fonteinen tumbler. \\t\\tHazy titanium yellow body (which catches the shadows forming a beautiful mysterious gradient) with an incredibly dense pillow of magnolia cream. Heavy persistent head and rich creamy lacing.\\t\\tPale malt, asian pear, and a hint of citrus in the nose. A vaguely tropical lager...\\t\\tTastes very much like a well done APA, with a nice balance of pale malt and low hop bitterness. The ginger adds to the refreshing character, but isn\\'t readily detectable at first (lacks any \"bite\"). Medium-dry finish - very clean and extremely quaffable. I can imagine hibiscus and beets working in small quantities, though I think they omitted those for this version...\\t\\tLight bodied, pillowy, smooth and moderately carbonated.\\t\\tDon\\'t go into this expecting a ginger beer (despite its name) as it has little in common with that spicy soft drink. This is a wonderful session ale though, and worth seeking out if you are a fan of light yet flavorful lagers. Would obviously go perfectly with sushi.'}\n",
            "{'beer/name': \"The Horseman's Ale\", 'beer/beerId': '33061', 'beer/brewerId': '14359', 'beer/ABV': '5.20', 'beer/style': 'Pumpkin Ale', 'review/appearance': '5', 'review/aroma': '5', 'review/palate': '5', 'review/taste': '5', 'review/overall': '5', 'review/time': '1163291143', 'review/profileName': 'NyackNicky', 'review/text': \"My first review, and my first beer at Defiant. This was the best beer I've ever had in my life. It looked beautiful, it smelled awesome, it tasted deliscious, it felt fantastic, and it was amazingly drinkable. I tried a bunch of their beers, but this was absolutely amazing!\"}\n",
            "{'beer/name': \"The Horseman's Ale\", 'beer/beerId': '33061', 'beer/brewerId': '14359', 'beer/ABV': '5.20', 'beer/style': 'Pumpkin Ale', 'review/appearance': '4', 'review/aroma': '4.5', 'review/palate': '5', 'review/taste': '5', 'review/overall': '5', 'review/time': '1162871808', 'review/profileName': 'blitheringidiot', 'review/text': \"Never has a beer struck me in such a way that I knew a 5 / 5 / 5 was worthy in the tast feel and drinkability category. Hands down, the best pumpkin ale I've ever had the pleasure of drinking. Defiant gets an edge here tho' since he pours them DIRECTLY from the tanks. \\t\\tFlavor aspect was an engaging pumpkin pie with a creamy feel and a flavor of vanilla icecream thrown in. Pumpkin beers are allabout the spices usually, which is short sighted. Defiant was all about the feel and flavor.\"}\n",
            "{'beer/name': \"The Horseman's Ale\", 'beer/beerId': '33061', 'beer/brewerId': '14359', 'beer/ABV': '5.20', 'beer/style': 'Pumpkin Ale', 'review/appearance': '4.5', 'review/aroma': '5', 'review/palate': '5', 'review/taste': '4.5', 'review/overall': '5', 'review/time': '1162865640', 'review/profileName': 'PopeDX', 'review/text': \"What a fantastic pumpkin beer! Probably my most favoritestest ever.\\t\\tThe color is somewhere between amber and brown. The slightest head forms upon pouring (the growler was filled right from the conditioning tank with the natural carbonation...I love the lower carbonation though). The aroma is full of fresh-cut pumpkin and cinnamon. The body is chock full of that same fresh pumpkin flavor. It lacks the cloying sweetness prevalent among others. A light hoppiness and round chocolate malt flavors merge perfectly with the pumpkin. The pumpkin and spices are evident without being overpowering. Mouthfeel is very round and thick, especially given the ABV.\\t\\tI'm so confused...my tongue and nose are telling me it's a pumpkin beer, but it's so clean and easy-drinking that there's no way it could be...could there?\\t\\tI could drink this all year long.\\t\\tSpecial thanks to Neil for being a gracious host to Ev, Karen and I while we were up there. What a fantastic place Defiant is, I only wish it were closer. Still, it was worth the trip, and I look forward to making it again. The world needs more places like it, and more people like Neil.\"}\n",
            "{'beer/name': \"The Horseman's Ale\", 'beer/beerId': '33061', 'beer/brewerId': '14359', 'beer/ABV': '5.20', 'beer/style': 'Pumpkin Ale', 'review/appearance': '4', 'review/aroma': '4', 'review/palate': '3.5', 'review/taste': '3', 'review/overall': '3.5', 'review/time': '1162685856', 'review/profileName': 'treehugger02010', 'review/text': \"My buddy got a growler from the Defiant Brewing Company. I poured into a 32 ounze mug (not full). It had a nice strong fruity smell. The appearance was dark and thick, but it wasn't as thick tasting. The taste was pretty good, milder than I thought, and there wasn't any sense of Pumpkin that I got. All in all it was a solid brew. Don't drink and review.\"}\n",
            "{'beer/name': \"The Horseman's Ale\", 'beer/beerId': '33061', 'beer/brewerId': '14359', 'beer/ABV': '5.20', 'beer/style': 'Pumpkin Ale', 'review/appearance': '3.5', 'review/aroma': '4', 'review/palate': '4', 'review/taste': '4', 'review/overall': '5', 'review/time': '1162684892', 'review/profileName': 'maddogruss', 'review/text': \"If you're looking for a quality beer right along the New York-New Jersey border, the Defiant Brewing Company is where you want to go. My first visit there, I tried this ale and was very impressed. I took one of m,y friends here and converted him to a beer drinker with this beer.\\t\\tAppearance: Beautifully amber, however the steward seems to be the only person to be able to get a decent head for the beer. Out of the tap, the head is fair and exceptional; out of the growler, it slowly rises after a ferw seconds.\\t\\tSmell: Good aroma, smells like pumpkin pie (so, Thanksgiving fans, this is a beer for you).\\t\\tTaste: Once again, tastes like pumpkin pie with all the spices. Not very hoppy.\\t\\tMouthfeel: Perfect feel. Not too thick and it doesn't taste like water. Perfect beer.\\t\\tDrinkability: Do not recommend drinking this beer very speedily, but slowly, enjoying this beer is the way to go. Good for hanging out and chilling with friends.\"}\n",
            "{'beer/name': \"The Horseman's Ale\", 'beer/beerId': '33061', 'beer/brewerId': '14359', 'beer/ABV': '5.20', 'beer/style': 'Pumpkin Ale', 'review/appearance': '2.5', 'review/aroma': '5', 'review/palate': '2', 'review/taste': '4', 'review/overall': '4', 'review/time': '1161048566', 'review/profileName': 'yelterdow', 'review/text': \"Growler fill from the long-awaited Defiant Brewery, and I couldn't be more thrilled that a twenty minute hike is all that's needed for some great brews from the accomplished Neill Acer. This one was first sampled before the Iron Maiden concert along with EPseja and friends, nothing like tailgating in the parking with four growlers in tow. This one is from last night, sealed tightly in the fridge.\\t\\tAppearance- Even on a rough pour, the head barely nudges its way to the surface. A bubbly o-ring of suds lines the outside edge of the beer, popping sporadically over several minutes. The color is a deep, reddish chestnut that showcases some of the malts and I'm sure the pumpkin puree. On tap, this looked a lot nicer...\\t\\tSmell- This is a wonderful example of how a pumpkin ale should express itself... the nose is dominated by a sweet, rich, baked pumpkin brownie (if such a thing exists) that smells more like food than a beer. The ingredients are in superb balance, with a cookie and cake-like character that showcases the spices eloquently and seamlessly. WAY up there at the top of my personal list of pumpkin ales.\\t\\tTaste- Bravo. Bready and full, this ale is Autumn in a beverage. Spiced just right, the Fuggles hops lingering in the background... it's so perfect for this time of year, with the leaves changing and the temperature dropping. No cloying sweetness here, just true pumpkin pie flavors and a balanced delivery.\\t\\tMouthfeel/Drinkability- Much thinner than on tap... this beer shines fresh from the tank. Great drinkability points, as this can be sessioned until next weekend with no complaints. My first beer from Defiant, I look forward to all of Neill's upcoming brews.\"}\n",
            "{'beer/name': \"The Horseman's Ale\", 'beer/beerId': '33061', 'beer/brewerId': '14359', 'beer/ABV': '5.20', 'beer/style': 'Pumpkin Ale', 'review/appearance': '3', 'review/aroma': '3.5', 'review/palate': '3.5', 'review/taste': '4', 'review/overall': '4.5', 'review/time': '1160702513', 'review/profileName': 'TongoRad', 'review/text': 'This was served from a growler and I suspect a bit of carbonation was lost in the process so for this review I am not going to put much stock in appearances, though it must be mentioned. The color is a hazy chestnut-brown with a wisp of tan foam on top. Swirling adds a touch more head.\\t\\tAroma is maybe too mellow yet quite suggestive of the season. I get more apples than pumpkin, though that is present if you search for it, and a hint of spices. Definitely not overdone- so a plus in my book for that.\\t\\tThe palate is where it gets interesting. Pumpkin and some toasty/caramel malt jumps to the forefront. The apple quality is more of a cooked apple (like in apple pie) than a raw one- again a nice mellowness there. The finish is lingering with cinnamon and nutmeg and some added cocoa.\\t\\tThe mouthfeel is a bit on the thin side, which could be helped by more carbonation, but that is not a major offender. Bitterness is unobtrusive but exactly where it should be. \\t\\tThe second glass is better than the first- this beer is definitely made for sessioning. I appreciate that as these beers usually tend to be on the cloying side. Nice job, Neill- it just needs a touch of tweaking for next year.'}\n",
            "{'beer/name': \"The Horseman's Ale\", 'beer/beerId': '33061', 'beer/brewerId': '14359', 'beer/ABV': '5.20', 'beer/style': 'Pumpkin Ale', 'review/appearance': '4.5', 'review/aroma': '4.5', 'review/palate': '4.5', 'review/taste': '4.5', 'review/overall': '4', 'review/time': '1160023044', 'review/profileName': 'dherling', 'review/text': \"Ah, the horseman commeth. Cloudy chocolate brown beer with a semi-thick off white head. The nose gives a big apple and cinnamon flavor, hello, it's Applejacks cereal, I shit you not! You also get pumpkin in the nose, but it's not forefront like the apple and spice. When I take my first sip I continue getting apples and cinnamon, but now I get a good amount of fresh pumpkin flavor, with an underlying nutmeg. It all works wonderfully well together, a unique statement, different, big, and satisfying. It goes down warm and lingers, like a cider donut. This is what fall is all about. well done!\"}\n",
            "{'beer/name': \"The Horseman's Ale\", 'beer/beerId': '33061', 'beer/brewerId': '14359', 'beer/ABV': '5.20', 'beer/style': 'Pumpkin Ale', 'review/appearance': '4.5', 'review/aroma': '4.5', 'review/palate': '4.5', 'review/taste': '4.5', 'review/overall': '5', 'review/time': '1160005319', 'review/profileName': 'cbl2', 'review/text': '10/4/2006\\t$7.50 5.20% Fresh on tap. \\t\\tAppearance:\\t\\tAfter a hard pour, this dark brown ale is speckled with ruby, and adorned by a thin film of off-white head that settles rapidly, but leaves an impressive lace behind.\\t\\t\\tAroma:\\t\\tMulled hot apple cider leaps from my goblet, evincing memories of cinnamon, a touch of cocoa, some coffee, and days spent sipping toddies by the fire.\\t\\t\\tTaste/Mouthfeel:\\t\\tSomeone took my apple cider, and dumped a gallon of cappaccino in there! This is sublime, eradicating any preconceived notions that one may have about this style. Notes of pumpkin are present, along with an intense mulled cider sensation, which is highjacked by an intense burst of espresso.\\t\\tNeill\\'s sign proclaims: \"brewed with imported English malted barley, fuggles hops from the UK with an infusion of American Pumpkin\". Regardless, this is phenomenal. Pumpkin ales are usually frowned upon, but this is exceptional, and with the low alcohol, I may finish the growler tonight, just so I can go back for more tomorrow.'}\n",
            "{}\n"
          ]
        }
      ],
      "source": [
        "# Shows a sample of the first and last 10 extracted user reviews\n",
        "!head -10 beeradvocate_reviews.json\n",
        "!tail -10 beeradvocate_reviews.json"
      ]
    },
    {
      "cell_type": "markdown",
      "metadata": {
        "id": "TCIcWiRM2zAM"
      },
      "source": [
        "## Custom Extraction\n",
        "- Custom extraction of the user reviews on the aspects of a beer including the text reviews\n",
        "- This is sequential and could be done in parallel but the effort is not worth it\n",
        "- JSON file is a poor format for random access storage and splitting data sets, so\n",
        "- this code converts it to JSON-lines and filters out data we don't need for this project\n",
        "- Sourced from: DATA301 Sample Project provided"
      ]
    },
    {
      "cell_type": "code",
      "execution_count": null,
      "metadata": {
        "id": "FstEcMTGzOck"
      },
      "outputs": [],
      "source": [
        "import json, ijson\n",
        "\n",
        "def float_converter(string):\n",
        "  \"\"\"Converts the values from a string into a float that were extracted from the BeeerAdvocate JSON file\"\"\"\n",
        "  try:\n",
        "      converter = float(string)\n",
        "  except ValueError:\n",
        "    converter = string\n",
        "  return converter\n",
        "\n",
        "\n",
        "\n",
        "def jsonline_converter(file_entry, file_output, aspect_rates):\n",
        "  \"\"\"Grabbing the important variables and values that will be used in later algortihms and analysis\"\"\"\n",
        "\n",
        "  with open(file_entry) as read_file, open(file_output, 'w') as output: # for opening a files, one for reading and one for writing\n",
        "    output.write('[\\n') # Initiates a new list of the things we need\n",
        "    first = True # Determines whether to insert a new line in the output file\n",
        "\n",
        "    for line in read_file: # Loops through the BeerAdvocate JSON file\n",
        "      line = line.replace(\"'\", '\"') # Replaces single quotes with double quotes to make sure its a valid JSON syntax\n",
        "      try:\n",
        "          data = json.loads(line) # Parses a JSON formatted string and returns Python object\n",
        "          selected_data = dict() # Creates new empty dictionary\n",
        "          for i in aspect_rates: # Loops through all the variables that will be used in the project\n",
        "              value = data.get(i) # Gets the values assoaciated with the syntax\n",
        "              if value is not None:\n",
        "                  selected_data[i] = float_converter(data.get(i)) # Converts it into a int value\n",
        "          if not first:\n",
        "              output.write(',\\n') # If conditions not met then create a new dictionary lines\n",
        "          first = False\n",
        "          output.write(json.dumps(selected_data)) # Function then writes the rating dictionary to the output file using the json.dumps() method to convert it to a JSON string.\n",
        "      except json.JSONDecodeError:\n",
        "          pass # Ignore line sthat cannotbe parsed into a JSON\n",
        "    output.write('\\n]\\n') # When loop completes, the function writes a closing square bracket ']' and a new line to the output file, indicating the end of the JSONL file.\n",
        "\n",
        "\n",
        "aspect_rates = ['beer/name', 'beer/beerId', 'review/appearance', 'review/aroma', 'review/palate', 'review/taste', 'review/overall', 'review/text']\n",
        "jsonline_converter('beeradvocate_reviews.json', 'beeradvocate_reviews.jsonl', aspect_rates)"
      ]
    },
    {
      "cell_type": "code",
      "execution_count": null,
      "metadata": {
        "colab": {
          "base_uri": "https://localhost:8080/"
        },
        "id": "hjdM-ULdzOGt",
        "outputId": "f5652146-282e-43ce-e2b9-63f740f96527"
      },
      "outputs": [
        {
          "name": "stdout",
          "output_type": "stream",
          "text": [
            "[\n",
            "{\"beer/name\": \"Sausa Weizen\", \"beer/beerId\": 47986.0, \"review/appearance\": 2.5, \"review/aroma\": 2.0, \"review/palate\": 1.5, \"review/taste\": 1.5, \"review/overall\": 1.5, \"review/text\": \"A lot of foam. But a lot.\\tIn the smell some banana, and then lactic and tart. Not a good start.\\tQuite dark orange in color, with a lively carbonation (now visible, under the foam).\\tAgain tending to lactic sourness.\\tSame for the taste. With some yeast and banana.\"},\n",
            "{\"beer/name\": \"Red Moon\", \"beer/beerId\": 48213.0, \"review/appearance\": 3.0, \"review/aroma\": 2.5, \"review/palate\": 3.0, \"review/taste\": 3.0, \"review/overall\": 3.0, \"review/text\": \"Dark red color, light beige foam, average.\\tIn the smell malt and caramel, not really light.\\tAgain malt and caramel in the taste, not bad in the end.\\tMaybe a note of honey in teh back, and a light fruitiness.\\tAverage body.\\tIn the aftertaste a light bitterness, with the malt and red fruit.\\tNothing exceptional, but not bad, drinkable beer.\"},\n",
            "{\"beer/name\": \"Black Horse Black Beer\", \"beer/beerId\": 48215.0, \"review/appearance\": 3.0, \"review/aroma\": 2.5, \"review/palate\": 3.0, \"review/taste\": 3.0, \"review/overall\": 3.0, \"review/text\": \"Almost totally black. Beige foam, quite compact, not bad.\\tLight smell, just a bit of roast, and some hop. A bit too light.\\tThe taste is light oo, and drinkable, with some malt, roast, hints of coffee.\\tNothing exceptional, but after all drinkable and pleasant.\\tLight to average body.\\tIn the aftertaste some dust, somr roast, hint of caramel, and a bit of bitterness.\\tNo defect, drinkable, not bad.\"},\n",
            "{\"beer/name\": \"Sausa Pils\", \"beer/beerId\": 47969.0, \"review/appearance\": 3.5, \"review/aroma\": 3.0, \"review/palate\": 2.5, \"review/taste\": 3.0, \"review/overall\": 3.0, \"review/text\": \"Golden yellow color. White, compact foam, quite creamy. Good appearance.\\tFresh smell, with good hop. Quite dry, with a good grassy note. Hay. Fresh and pleasant.\\tMore sweet in the mouth, with honey. The hop comes back in the end, and in the aftertaste.\\tNot bad, but a bit too sweet for a pils.\\tIn the end some vanilla and camomile note.\\tIn the aftertaste, too. Though the hop, a bit too sweet.\\tHonest.\"},\n",
            "{\"beer/name\": \"Caldera Ginger Beer\", \"beer/beerId\": 52159.0, \"review/appearance\": 4.0, \"review/aroma\": 4.0, \"review/palate\": 3.5, \"review/taste\": 4.0, \"review/overall\": 4.0, \"review/text\": \"Notes from 6/24\\t\\tA: Bright golden glowing beer in a moment of clarity with a lively white head of feathery fluff\\t\\tS: The ginger is definitely there, or am I smelling my Indian dinner? Almost cake-like in its malt aroma, sharply bready with a slight edge of sweetness\\t\\tT: Nice clear malty throat taste, reminds me of strands of complex sugars and grains, ginger is more subtle than I expected, more of an undertone than a backbone\\t\\tM: A refreshing light beer feel, like a pilsner or summer ale\\t\\tD: If this was a sixer instead of a double-deuce, I could see this being a fine picnic pounder\\t\\tOverall, pretty impressed for the particular style\"},\n",
            "{\"beer/name\": \"Caldera Oatmeal Stout\", \"beer/beerId\": 10789.0, \"review/appearance\": 2.5, \"review/aroma\": 1.5, \"review/palate\": 2.5, \"review/taste\": 2.0, \"review/overall\": 2.0, \"review/text\": \"Caldera presents yet another circumstance where the brewery does not operate a brewpub, doesnt bottle their beers, and is located 300 miles from my home. To review their beers I traveled to their hometown of Ashland, OR and drank at the Ashland Creek Bar and Grill. This may have been a mistake. \\t\\t\\tThough I had other reasons to visit Ashland, its disappointing (to say the least) to travel 300 miles and be served a spoiled beer. Both the Oatmeal Stout and Ashland Amber were of poor quality at the Ashland Creek Bar and Grill. In the case of the Oatmeal Stout, a nice measure of cream and a wayward thread of mint were marred by a sulfuric smell and likely bacterial infection. Though I cant say for certain, my best guess is that the house tap lines were something other than sanitized. \\t\\t\\tI will attempt to revisit and re-evaluate this beer. But for the time being, its important to ask a pertinent question about quality control. Caldera is a 10 bbl microbrewery in a small town. How much responsibility do they have towards assuring that taps serving their product in their hometown are kept reasonably clean and free of bacterial encroachment? My answer to this question is that the brewery does have some responsibility to assure quality pours in its own hometown. This is especially so when they operate no pub of their own. Not only does this effort protect the consumer from being served a spoiled beer, but the enforcement of quality control measures at the point of consumption simply makes good business sense. \\t\\t\\tTill then, theres nothing I really care say about this beer other than to wish whoever pursues it greater luck than I had at Ashland Creek.\"},\n",
            "{\"beer/name\": \"Rauch \\u00dcr Bock\", \"beer/beerId\": 58046.0, \"review/appearance\": 3.0, \"review/aroma\": 4.5, \"review/palate\": 4.0, \"review/taste\": 4.5, \"review/overall\": 4.5, \"review/text\": \"Pours a murky light brown with a 1 inch fizzy tan head that settles to a film on the top of the beer. Small dots of lace slowly drip back into the remaining beer on the drink down. Smell is of smoked meat, smoked cheese, campfire smoke, etc. Taste is of smoked meat/cheese, campfire smoke, wood, and a slight cocoa/coffee flavor on the finish. The aftertaste is also cocoa/coffee with just a hint of the smoke flavors. This beer has a crisp level of carbonation with a bubbly mouthfeel. Overall this is a very good rauchbier from Caldera that has a bit of a different flavor than German rauchbiers.\"},\n",
            "{\"beer/name\": \"Rauch \\u00dcr Bock\", \"beer/beerId\": 58046.0, \"review/appearance\": 4.0, \"review/aroma\": 4.0, \"review/palate\": 3.0, \"review/taste\": 4.0, \"review/overall\": 4.0, \"review/text\": \"Faint sudsy head with some with some dissipating fine surface. Light ruddy brown. Some lace.\\t\\tSmokiness in the nose along with pickling vinegar (faint), and some slightly musty malt.\\t\\tPlenty of bitter, slightly tangy, tannic beech smoke. Traces of sweet toffee on the finish.\\t\\tFeel is standard, smooth, but went flat quite fast.\"},\n",
            "{\"beer/name\": \"Rauch \\u00dcr Bock\", \"beer/beerId\": 58046.0, \"review/appearance\": 4.0, \"review/aroma\": 4.5, \"review/palate\": 3.5, \"review/taste\": 4.0, \"review/overall\": 4.0, \"review/text\": \"A new arrival to the West TN area... \\t\\tPours quite a bit lighter than I was expecting. Almost like a brown ale? Good head retention though...\\t\\tSmoky bacon aromas upfront mesh with a sweet maltiness... This is definitely very smoky but not overpoweringly so... Its subtle at times and powerful at others on the nose... Like being in a smokehouse after the meat has already been removed... Very interesting...\\t\\tSweet caramel malts surprise me as I thought the smoke would hit hard right off the bat... The smokiness here is beautifully done... Not a smoke bomb but rather the smoked meat flavors run parallel to the sweetness darting in and out, here and there...\\t\\tVery good example from Caldera here. Excellent use of the smoke with its subtleties...\"},\n",
            "{\"beer/name\": \"Four Horsemen #4 War\", \"beer/beerId\": 43989.0, \"review/appearance\": 4.5, \"review/aroma\": 4.0, \"review/palate\": 3.0, \"review/taste\": 4.5, \"review/overall\": 4.0, \"review/text\": \"Had this at the brewery. From a caged and corked 750 with no label.\\t\\tA: Jet black with a nice billowy mocha head. Some spotty lacing.\\t\\tS: Not that much of a nose. Hints of roasted grains, some chocolate, and some roasted meat. They used some rauch malt in this one and it did give it a little something different.\\t\\tT: Typical roasty stout with hints of chocolate. What separates this from others is the use of the rauch malt. Gave it a little bit more complexity.\\t\\tM: Definately the week point for this beer. Way too carbonated especially for the style.\\t\\tD: Only had a 6 oz pour or so but I definitely could have had more. The carbonation hurt it a little but if they can solve that they have a winner on their hands.\"},\n",
            "{\"beer/name\": \"2007 Resolution #1\", \"beer/beerId\": 34405.0, \"review/appearance\": 4.0, \"review/aroma\": 4.0, \"review/palate\": 4.0, \"review/taste\": 4.0, \"review/overall\": 4.0, \"review/text\": \"An unlabeled corked 750ml bottle given to me by Neill Acer back in the June of 2007 during a trip to the brewery with BeerBeing. Uncorked and poured into my tumbler. The ale appears a hazed bright golden yellow color with about a finger of off white foam. Nose and flavors consist of fruits such as apples, grapes, and orange peel, spicy, peppery yeast, white sugar, mild vinegar notes. Decent medium body with light yet prickly carbonation. Slightly warming, but quite drinkable. Thanks Neill.\"},\n",
            "{\"beer/name\": \"2007 Resolution #1\", \"beer/beerId\": 34405.0, \"review/appearance\": 4.0, \"review/aroma\": 4.5, \"review/palate\": 4.0, \"review/taste\": 4.5, \"review/overall\": 4.5, \"review/text\": \"Poured out a golden brown with a bubbly white head. Nice spicy nose, with some citrus like sweetness, yeast, and belgian candi. The taste was lovely, like a Belgian Imperial wit or something. Nice yeasty spice, orangey, citrusy sweetness, some tempered alcohol, and an overall well balanced beer. Has a good mouthfeel, a bit crisp, a bit creamy. Very drinkable.\"},\n",
            "{\"beer/name\": \"Big Thumper Ale\", \"beer/beerId\": 34215.0, \"review/appearance\": 3.0, \"review/aroma\": 4.0, \"review/palate\": 4.0, \"review/taste\": 4.5, \"review/overall\": 4.5, \"review/text\": \"Similar to the Little Thumper, but more of a cohesive beer, IMO. Lots of toasty malt, more of the fruit (fresh fig, persimmon, berries) and those wonderful grassy/floral goldings hops. The mouthfeel is luscious, and the bitterness is just about as high as it could be pushed before really taking over. \\t\\tI got a soda keg fill of this beer for a party so I can definitely attest to the drinkability. These babies went down eeeasy- glad I got it!\"},\n",
            "{\"beer/name\": \"Big Thumper Ale\", \"beer/beerId\": 34215.0, \"review/appearance\": 4.0, \"review/aroma\": 4.0, \"review/palate\": 4.0, \"review/taste\": 4.0, \"review/overall\": 4.5, \"review/text\": \"Just read reviews for Magic Hat #9. Poured out a golden orange color, foamy off white head, fairly clear. The nose had some nice malt and spicy hopness, but had overwhelming apricot. The taste echoed the nose, apricot everywhere. Finished clean and tasty, great sessioner.\"},\n",
            "{\"beer/name\": \"Big Thumper Ale\", \"beer/beerId\": 34215.0, \"review/appearance\": 3.5, \"review/aroma\": 3.5, \"review/palate\": 3.5, \"review/taste\": 3.5, \"review/overall\": 3.5, \"review/text\": \"Enjoyed direct from the tank at the breweery.\\tServed as a hazy amber colored beer with modest white head. Little retention.\\tSmell is a nice combination of bready malt and grassy hops.\\tTaste is also a bice combination of the malt and hops, but the hops seem a bit too strong.\\tFinish is long and bitter in the outh.\\tA nice beer that was good, but my least favorite of the 4 I tried at the brewery.\"},\n",
            "{\"beer/name\": \"Bear Mountain Ale\", \"beer/beerId\": 62147.0, \"review/appearance\": 3.0, \"review/aroma\": 2.5, \"review/palate\": 2.0, \"review/taste\": 2.5, \"review/overall\": 2.0, \"review/text\": \"A: A good golden color with nice head retention that lasts throughout.\\t\\tS: The smell is decent with nice hop aromas, with some fruit aromas, but the multiple yeast strains overpower the rest of the smell.\\t\\tT: I could not get into this beer at all. The taste is overly bitter with little else going on. The little flavors I get are on the earthy side and they are not very kind to the tongue. \\t\\tD: This beer is unfortunately hard to drink, the aftertaste is rather difficult to get over and after a few sips it is not easily drinkable.\"},\n",
            "{\"beer/name\": \"Irish Amber\", \"beer/beerId\": 41749.0, \"review/appearance\": 4.0, \"review/aroma\": 3.5, \"review/palate\": 4.0, \"review/taste\": 4.5, \"review/overall\": 4.5, \"review/text\": \"Pours a foggy amber (surprise!). Flavor has a mild citrus tang to it and an overall leafy and earthy thing. Brings a nice level of complexity to it, but nothing Earth-shattering. Gives a biting carbonation with a smooth liquid feel. This is a very nice beer that is a pleasure to drink. Quite tasty.\"},\n",
            "{}\n",
            "]\n"
          ]
        }
      ],
      "source": [
        "# Shows a sample of the first and last 10 extracted user reviews\n",
        "!head -10 beeradvocate_reviews.jsonl\n",
        "!tail -10 beeradvocate_reviews.jsonl"
      ]
    },
    {
      "cell_type": "markdown",
      "metadata": {
        "id": "65qMrhR019q3"
      },
      "source": [
        "## Set up a local spark cluster\n",
        "\n",
        "Sourced from: [Sample Project Code](https://colab.research.google.com/drive/1EWlIT5ecnwPSpZdE-9Z-vx65cL_bFFPR#scrollTo=cFHRh3GE_Xet)"
      ]
    },
    {
      "cell_type": "code",
      "execution_count": null,
      "metadata": {
        "colab": {
          "base_uri": "https://localhost:8080/"
        },
        "id": "b6KGhggG10IY",
        "outputId": "a89acfb3-4491-41e7-ffb2-330359c85bda"
      },
      "outputs": [
        {
          "name": "stdout",
          "output_type": "stream",
          "text": [
            "env: PYTHONHASHSEED=3\n",
            "\u001b[2K     \u001b[90m━━━━━━━━━━━━━━━━━━━━━━━━━━━━━━━━━━━━━━━\u001b[0m \u001b[32m310.8/310.8 MB\u001b[0m \u001b[31m4.0 MB/s\u001b[0m eta \u001b[36m0:00:00\u001b[0m\n",
            "\u001b[?25h  Preparing metadata (setup.py) ... \u001b[?25l\u001b[?25hdone\n",
            "  Building wheel for pyspark (setup.py) ... \u001b[?25l\u001b[?25hdone\n"
          ]
        }
      ],
      "source": [
        "%env PYTHONHASHSEED 3\n",
        "!apt-get install openjdk-8-jdk-headless -qq > /dev/null\n",
        "!pip install -q pyspark"
      ]
    },
    {
      "cell_type": "code",
      "execution_count": null,
      "metadata": {
        "id": "mz5Tn41r2LaH"
      },
      "outputs": [],
      "source": [
        "from math import sqrt\n",
        "import pyspark\n",
        "from pyspark import SparkConf, SparkContext\n",
        "from pyspark.sql import *\n",
        "spark = SparkSession.builder.master(\"local[*]\").appName('SparkExample').config(\n",
        "    \"spark.executor.memory\", \"1g\").config(\"spark.ui.port\", \"4050\"\n",
        "        ).getOrCreate()\n",
        "sc = spark.sparkContext"
      ]
    },
    {
      "cell_type": "markdown",
      "metadata": {
        "id": "JJxksW4U3TXX"
      },
      "source": [
        "## Loading the data (BeerAdvocate) into an Resilient Distributed Dataset (RDD)\n",
        "\n",
        "Sourced from: [Sample Project Code](https://colab.research.google.com/drive/1EWlIT5ecnwPSpZdE-9Z-vx65cL_bFFPR#scrollTo=cFHRh3GE_Xet) and [Apache Spark - JSON Files](https://spark.apache.org/docs/latest/sql-data-sources-json.html)"
      ]
    },
    {
      "cell_type": "code",
      "execution_count": null,
      "metadata": {
        "colab": {
          "base_uri": "https://localhost:8080/"
        },
        "id": "9vo2hVII2tMx",
        "outputId": "5c46cea7-a0c0-4511-f0d4-2ac41fef2938"
      },
      "outputs": [
        {
          "name": "stdout",
          "output_type": "stream",
          "text": [
            "root\n",
            " |-- beer/beerId: double (nullable = true)\n",
            " |-- beer/name: string (nullable = true)\n",
            " |-- review/appearance: double (nullable = true)\n",
            " |-- review/aroma: double (nullable = true)\n",
            " |-- review/overall: double (nullable = true)\n",
            " |-- review/palate: double (nullable = true)\n",
            " |-- review/taste: double (nullable = true)\n",
            " |-- review/text: string (nullable = true)\n",
            "\n",
            "589528\n",
            "[Row(beer/beerId=47986.0, beer/name='Sausa Weizen', review/appearance=2.5, review/aroma=2.0, review/overall=1.5, review/palate=1.5, review/taste=1.5, review/text='A lot of foam. But a lot.\\tIn the smell some banana, and then lactic and tart. Not a good start.\\tQuite dark orange in color, with a lively carbonation (now visible, under the foam).\\tAgain tending to lactic sourness.\\tSame for the taste. With some yeast and banana.')]\n",
            "[(Row(beer/beerId=47986.0, beer/name='Sausa Weizen', review/appearance=2.5, review/aroma=2.0, review/overall=1.5, review/palate=1.5, review/taste=1.5, review/text='A lot of foam. But a lot.\\tIn the smell some banana, and then lactic and tart. Not a good start.\\tQuite dark orange in color, with a lively carbonation (now visible, under the foam).\\tAgain tending to lactic sourness.\\tSame for the taste. With some yeast and banana.'), 0), (Row(beer/beerId=48213.0, beer/name='Red Moon', review/appearance=3.0, review/aroma=2.5, review/overall=3.0, review/palate=3.0, review/taste=3.0, review/text='Dark red color, light beige foam, average.\\tIn the smell malt and caramel, not really light.\\tAgain malt and caramel in the taste, not bad in the end.\\tMaybe a note of honey in teh back, and a light fruitiness.\\tAverage body.\\tIn the aftertaste a light bitterness, with the malt and red fruit.\\tNothing exceptional, but not bad, drinkable beer.'), 1), (Row(beer/beerId=48215.0, beer/name='Black Horse Black Beer', review/appearance=3.0, review/aroma=2.5, review/overall=3.0, review/palate=3.0, review/taste=3.0, review/text='Almost totally black. Beige foam, quite compact, not bad.\\tLight smell, just a bit of roast, and some hop. A bit too light.\\tThe taste is light oo, and drinkable, with some malt, roast, hints of coffee.\\tNothing exceptional, but after all drinkable and pleasant.\\tLight to average body.\\tIn the aftertaste some dust, somr roast, hint of caramel, and a bit of bitterness.\\tNo defect, drinkable, not bad.'), 2), (Row(beer/beerId=47969.0, beer/name='Sausa Pils', review/appearance=3.5, review/aroma=3.0, review/overall=3.0, review/palate=2.5, review/taste=3.0, review/text='Golden yellow color. White, compact foam, quite creamy. Good appearance.\\tFresh smell, with good hop. Quite dry, with a good grassy note. Hay. Fresh and pleasant.\\tMore sweet in the mouth, with honey. The hop comes back in the end, and in the aftertaste.\\tNot bad, but a bit too sweet for a pils.\\tIn the end some vanilla and camomile note.\\tIn the aftertaste, too. Though the hop, a bit too sweet.\\tHonest.'), 3), (Row(beer/beerId=52159.0, beer/name='Caldera Ginger Beer', review/appearance=4.0, review/aroma=4.0, review/overall=4.0, review/palate=3.5, review/taste=4.0, review/text='Notes from 6/24\\t\\tA: Bright golden glowing beer in a moment of clarity with a lively white head of feathery fluff\\t\\tS: The ginger is definitely there, or am I smelling my Indian dinner? Almost cake-like in its malt aroma, sharply bready with a slight edge of sweetness\\t\\tT: Nice clear malty throat taste, reminds me of strands of complex sugars and grains, ginger is more subtle than I expected, more of an undertone than a backbone\\t\\tM: A refreshing light beer feel, like a pilsner or summer ale\\t\\tD: If this was a sixer instead of a double-deuce, I could see this being a fine picnic pounder\\t\\tOverall, pretty impressed for the particular style'), 4)]\n"
          ]
        }
      ],
      "source": [
        "user_reviews_df = spark.read.json(\"beeradvocate_reviews.jsonl\", multiLine=True) # Reads a JSON Line file '.jsonl' into a dataframe using PySpark and the 'multiline' is to enable multiple lines of JSON objects\n",
        "user_reviews_df.printSchema() # visualizes the schema of the dataframe\n",
        "print(user_reviews_df.count()) # counts the number of rows in the dataframe\n",
        "print(user_reviews_df.rdd.take(1)) # retrieves the first row of data from a dataframe in PySpark\n",
        "# use .drop() function\n",
        "\n",
        "user_reviews_df_ids = user_reviews_df.rdd.zipWithUniqueId() # converts the dataframe into RDD along with its unique identifier\n",
        "print(user_reviews_df_ids.take(5)) # unique identifiers are generated based on the partitions and positions of the elements.\n"
      ]
    },
    {
      "cell_type": "markdown",
      "metadata": {
        "id": "8IXwbguDxX-7"
      },
      "source": [
        "## PySpark Sampling\n",
        "This is one way to get random sample records of the original dataset of our BeerAdvocate which contains about 589528 documents. Hence, I used this approach because, I have been stuck at doing my IDF part of the TF-IDF algortihm for 5 days, and I was not making any progress at all.\n",
        "\n",
        "I have been adviced by my lecturer/tutor/fellow clasmates that my BeerAdvocate dataset is a very larger dataset. Thus, by taking a sample fraction from the original dataset, I was able to get my IDF algortihm working.\n",
        "\n",
        "Sourced from: [PySpark Random Sample with Example](https://sparkbyexamples.com/pyspark/pyspark-sampling-example/#:~:text=PySpark%20sampling%20%28pyspark.sql.DataFrame.sample%20%28%29%29%20is%20a%20mechanism%20to,is%20the%20syntax%20of%20the%20sample%20%28%29%20function.)\n",
        "\n"
      ]
    },
    {
      "cell_type": "code",
      "execution_count": null,
      "metadata": {
        "colab": {
          "base_uri": "https://localhost:8080/"
        },
        "id": "hoZJvICqut5Z",
        "outputId": "e9c8db21-0909-4dfd-c2b3-5badd990f329"
      },
      "outputs": [
        {
          "name": "stdout",
          "output_type": "stream",
          "text": [
            "11699\n",
            "[(Row(beer/beerId=58046.0, beer/name='Rauch Ür Bock', review/appearance=3.5, review/aroma=4.5, review/overall=4.5, review/palate=4.0, review/taste=4.5, review/text='Big thanks to N2168 for knocking this off my wants. Poured into a stone nonic and shared with my buddy Ryan. \\t\\tThis was quite delicious. The pour made it seem a little lacking in carbonation, and while indeed it was light in carbonation I think it would have been awkward if it had been heavier considering the taste profile. This beer does such a good job of hitting the sweet and savory side of smoke. Nice big campfire smoke smell and taste without any roughness to it, with a nice smoked bacon savory sweetness. This is easy to drink and just downright delicious, would love to have a keg of this by my desk.'), 10), (Row(beer/beerId=10788.0, beer/name='Pilot Rock Porter', review/appearance=4.5, review/aroma=4.5, review/overall=4.5, review/palate=4.5, review/taste=5.0, review/text='Comes out of the tap an opaque deep sable with a minimal head, but the latter may be an artifact of te pour. Smoky aroma has tones of molasses and high-quality coffee. Absolutely delicious flavor has roast coffee, chocolate and molasses components and is just slightly sweet - and superb! Smooth, fizzy texture is extremely pleasing. If you visit the Pacific Northwest, look for this one!'), 91), (Row(beer/beerId=20818.0, beer/name='Old Growth Imperial Stout', review/appearance=4.0, review/aroma=4.0, review/overall=4.0, review/palate=4.0, review/taste=4.5, review/text='A: Poured a dark black with good carbonation and nice brown cap\\t\\tS: Loads of cocoa powder, coffee, dark chcolate and hints of funk/sour\\t\\tT: Dark chocolate upfront with a booze sting, bakers powder cocoa, coffee beans, light funk going on\\t\\tM: Bitter chocolate at the end, booze, big body, well carbonated\\t\\tD: Good'), 115), (Row(beer/beerId=10786.0, beer/name='Dry Hop Red', review/appearance=4.0, review/aroma=4.0, review/overall=4.0, review/palate=4.0, review/taste=4.0, review/text='Beer pours a dark clear amber color with a nice sturdy head.\\t\\tAromas are of fresh pine like hops. Not overpowering, but what is there is nice.\\t\\tFlavors are similar to the Ashland Amber, but pumped up a bit. A really crisp tea and malt like character starts out up front. The beer then finishes with a dry bitter hop finish. \\t\\tMouthfeel is nice, carbonation is good, and the flavors are full.\\t\\tDrinkability is quite good. Session worthy, and a bit more interesting than the Ashland Amber. Pretty good stuff.'), 117), (Row(beer/beerId=10784.0, beer/name='Caldera IPA', review/appearance=3.5, review/aroma=4.0, review/overall=4.0, review/palate=3.5, review/taste=3.5, review/text='Thanks to hopdog for this...\\tAppears a hazy, light orange with a small white head that fades into a mild collar and film. Spotty lacing is left around the glass.\\tSmell is nice of citrusy hops, along with some notes of pine sap and herbs.\\tTaste is of the mentioned aromas with caramel and citrus notes battling it out with a mild spiciness going on in the flavor.\\tMouthfeel is medium bodied, yeasty, sweet up front, and bitter on the end.'), 260), (Row(beer/beerId=10784.0, beer/name='Caldera IPA', review/appearance=4.5, review/aroma=3.0, review/overall=3.5, review/palate=3.5, review/taste=3.0, review/text='I dont believe that I tasted the freshest can, I didnt see a date on the can, so cant affirm or deny. Poured from can into a pilsner glass. Nice orange color which fades to yellow on the outside of the beer. 1/4 inch head that laced the whole glass. Picture alone, this looks like an amazing beer.\\tSmell was barely apparent. I tried several times to get any aroma at all. I do pick up a faint aroma of orange, pineapple and other citrus notes. No pine smell at all.\\tTaste is average. Not anything surprising or breath taking. No real note supercedes the rest. Faint hints of orange and citrus fade to a very faint sign of pine on the end.\\tI rated the mouthfeel better after reading the abv. For having 6.1%, its very easy to drink.\\tMy overall attitude of this beer is that it is ok. Not a great one, and not a bad one. Then again I have no idea how fresh my sample was.'), 281), (Row(beer/beerId=10784.0, beer/name='Caldera IPA', review/appearance=4.5, review/aroma=4.0, review/overall=4.0, review/palate=4.0, review/taste=4.5, review/text='Poured into a New Belgium snifter\\t\\tA - Beautiful transparent amber, half finger off white head and some decent lacing\\t\\tS - Huge hop and huge malt. Slightly sweet malt, huge sapling hop, citrus fruit, big floral, pine and something in this maybe more than one thing is toasted, roasted or something along those lines\\t\\tT - So bitter up front, hops, citrus hops, floral hops and hops, hops hops. A bit of resin. Nice balanced malty backbone, toasted, earthy and bitter through and though\\t\\tM - Weed and resin! Puckers the whole mouth with glorious bitterness and a bit of sweet at the end. Sticky and lingers for a long while\\t\\tD - This is not your average IPA. This is a hop and bitterness beast. Amazing smells and tastes, but if you are frightened of bitters, stay away. If you are like me, enjoy\\t\\tFinal thought - If you like hops, bitterness and weed, this IPA is for you'), 288), (Row(beer/beerId=60990.0, beer/name='Mogli', review/appearance=4.5, review/aroma=5.0, review/overall=5.0, review/palate=5.0, review/taste=4.5, review/text='One off brewed for Oregon Brewers Fest from my understanding. It was not barrel aged but used wood from bourbon barrels in the process, and is an imperial porter but there is no category for that on BA. \\t\\tPours a very dark brown with a small head around the sides of the glass. Aroma is outrageous. Like the first sniff of chocolate milk back in elementary school. Then add extra cocoa and some espresso, vanilla, and bourbon. Taste is to die for. All kinds of chocolate, french vanilla ice cream, bourbon, dark roasted coffee, and the smallest hop bitterness for balance. Minimal alcohol presence. Mouthfeel is the best feature. One of the smoothest beers I have ever had. By far the best of the style I have ever had. Drinkability is unlimited. If they bottled this it would be a legend.'), 359), (Row(beer/beerId=8770.0, beer/name='Killer Whale Stout', review/appearance=3.5, review/aroma=4.5, review/overall=4.5, review/palate=4.5, review/taste=5.0, review/text='On tap at Booneville 2007. Booneville is the holy grail of all brewfests in CA. Please attend in May 2008.\\t\\tA - Dark black pour, 90% filtered, light head for a stout.\\t\\tS - Deeply roasted malts with a hint of chocolate. \\t\\tT - Hints of light chocolate and maltiness comparable to a rich coffee roast. \\t\\tM - Smooth finish with excellent lingering taste. \\t\\tD - Excellent beer. Not a big fan of stouts at the time, but enjoyed this one quite a bit. Even great during the warmer season.'), 385), (Row(beer/beerId=436.0, beer/name='Amstel Light', review/appearance=2.0, review/aroma=2.0, review/overall=1.0, review/palate=3.0, review/taste=1.0, review/text='A buddy of mine bought a 6-pack of this thinking it would be similar to the non-light version he likes. Since I had never had any Amstel beers, I tried one. I was not pleased.\\t\\tApp: It has a dingy water look as if not really a beer at all.\\t\\tSmell: It smells like any other low grade beer. When it gets a little warm, it starts to smell slightly skunky.\\t\\tTaste: It was terrible. One of the least tolerable things I have ever put in my mouth.\\t\\tMouthfeel: Very frothy and light. Not too bad here.\\t\\tDrink: It was a little tough getting past much more than half of a bottle.\\t\\tOverall: I would not recommend this beer to anyone. It is awful cold and even worse warm. There is room for improvement, however.'), 418)]\n"
          ]
        }
      ],
      "source": [
        "### Reduce the RDD to 10,000 elements using sample()\n",
        "### The second argument, 0.02 in this case, represents the sampling fraction.\n",
        "### It is set to 0.02, which means the resulting RDD will have approximately 2% of the original elements of the 500000 original data\n",
        "sampled_rdd = user_reviews_df_ids.sample(False, 0.02, seed = 42)\n",
        "\n",
        "### Take a look at the sampled RDD\n",
        "print(sampled_rdd.count())   ### Check the total counts from the samples rdd\n",
        "print(sampled_rdd.take(10))  ### Print the first 10 elements of the sampled RDD"
      ]
    },
    {
      "cell_type": "code",
      "execution_count": null,
      "metadata": {
        "colab": {
          "base_uri": "https://localhost:8080/"
        },
        "id": "vJhtsl583qsV",
        "outputId": "74a8c2d8-b5e8-4ec2-f8cb-d1da441bc787"
      },
      "outputs": [
        {
          "name": "stdout",
          "output_type": "stream",
          "text": [
            "Looking in indexes: https://pypi.org/simple, https://us-python.pkg.dev/colab-wheels/public/simple/\n",
            "Requirement already satisfied: nltk in /usr/local/lib/python3.10/dist-packages (3.8.1)\n",
            "Requirement already satisfied: click in /usr/local/lib/python3.10/dist-packages (from nltk) (8.1.3)\n",
            "Requirement already satisfied: joblib in /usr/local/lib/python3.10/dist-packages (from nltk) (1.2.0)\n",
            "Requirement already satisfied: regex>=2021.8.3 in /usr/local/lib/python3.10/dist-packages (from nltk) (2022.10.31)\n",
            "Requirement already satisfied: tqdm in /usr/local/lib/python3.10/dist-packages (from nltk) (4.65.0)\n"
          ]
        }
      ],
      "source": [
        "# download a set of stop words that we can ignore because they are not interesting\n",
        "# Sourced from: DATA301 Sample Project Code\n",
        "!pip install nltk"
      ]
    },
    {
      "cell_type": "markdown",
      "metadata": {
        "id": "RusT0GpD4GPh"
      },
      "source": [
        "The code below imports/download a Natural Language Toolkit (nltk) library and the English stopwords corpus. Then prints out lists of stopwords in English.\n",
        "\n",
        "Sourced from: [geeksforgeeks.org](https://www.geeksforgeeks.org/removing-stop-words-nltk-python/) and [ DATA301 Sample Project Code](https://colab.research.google.com/drive/1EWlIT5ecnwPSpZdE-9Z-vx65cL_bFFPR#scrollTo=cFHRh3GE_Xet)"
      ]
    },
    {
      "cell_type": "code",
      "execution_count": null,
      "metadata": {
        "colab": {
          "base_uri": "https://localhost:8080/"
        },
        "id": "4j1uyNRX36Ug",
        "outputId": "69d1570a-7a7f-4beb-9211-b7fc96ce2707"
      },
      "outputs": [
        {
          "name": "stdout",
          "output_type": "stream",
          "text": [
            "{'am', 'didn', 'the', 'in', 'myself', 'are', 're', 'weren', \"won't\", 'an', \"that'll\", 'its', 'will', 'doing', 'we', 'more', 'against', 'they', 'needn', 'having', 'again', \"hasn't\", 'were', 'now', 'himself', 'itself', \"weren't\", 'only', 'what', 'which', 'him', 'up', 'then', 'doesn', 'than', 'or', 'to', 'hadn', \"didn't\", 'this', 'o', \"you'd\", 'shan', \"couldn't\", 'll', 'can', 'below', \"aren't\", 'yourself', 'with', \"don't\", 'my', \"it's\", 'that', 'once', 'other', \"mustn't\", 'not', 'through', 've', 'don', 'down', 'because', 'them', 'aren', 's', \"needn't\", 'mightn', \"shouldn't\", 'did', 'before', 'about', 'couldn', 'of', 'at', 'here', \"you're\", 'ourselves', \"you'll\", 'our', \"isn't\", 'their', 'do', 'theirs', 'just', \"doesn't\", \"you've\", 'by', 'your', 'themselves', 'being', 'mustn', 'd', 'm', \"mightn't\", 'i', 'yours', 'any', 'most', 'off', 'wouldn', 'own', 'from', 'when', 'haven', 'very', \"she's\", 'ours', 'ain', 'herself', 'these', 'same', 'does', 'such', 'had', 'further', 'while', 'on', 'nor', 'you', 'was', 'for', 'have', 'his', 'those', 'but', 'hers', 'too', 'he', 'her', 'should', 'out', 'yourselves', 'and', 'why', 't', 'after', 'wasn', 'above', 'isn', 'me', 'each', \"should've\", 'shouldn', 'until', 'it', 'where', 'both', 'been', 'over', \"shan't\", 'there', 'into', 'if', 'she', 'who', 'all', 'between', 'hasn', 'is', 'under', 'y', 'as', 'so', \"haven't\", 'won', 'some', \"wouldn't\", 'whom', 'be', 'has', 'during', 'no', \"wasn't\", \"hadn't\", 'a', 'few', 'how', 'ma'}\n"
          ]
        },
        {
          "name": "stderr",
          "output_type": "stream",
          "text": [
            "[nltk_data] Downloading package stopwords to /root/nltk_data...\n",
            "[nltk_data]   Unzipping corpora/stopwords.zip.\n"
          ]
        }
      ],
      "source": [
        "import nltk\n",
        "nltk.download('stopwords')\n",
        "\n",
        "from nltk.corpus import stopwords\n",
        "\n",
        "STOP_WORDS = set(stopwords.words('english'))\n",
        "print(STOP_WORDS)\n"
      ]
    },
    {
      "cell_type": "markdown",
      "metadata": {
        "id": "nqj7s7WAHhi1"
      },
      "source": [
        "### Cleaning the dataset stored in JSON-line\n",
        "\n",
        "The section below performs word count within a document first (we consider a single review text to be a document so we aren't going to parallelize the per document word count since we have so many documents, it is much more efficient to parallelize the documents as a whole)\n",
        "\n",
        "The section below parallizes the documents by performing word count within a singular document.\n",
        "\n",
        "Sourced from: [re — Regular expression operations](https://docs.python.org/3/library/re.html) and [DATA301 Sample Project](https://colab.research.google.com/drive/1EWlIT5ecnwPSpZdE-9Z-vx65cL_bFFPR#scrollTo=CkBFZdu-_BQ6)"
      ]
    },
    {
      "cell_type": "code",
      "execution_count": null,
      "metadata": {
        "id": "-kf9kVq9F3Ho"
      },
      "outputs": [],
      "source": [
        "### Perform word count within a document first (we consider a single review text to be a document so we aren't going to parallelize the per document word count since we have so many documents, it is much more efficient to parallelize the documents)\n",
        "\n",
        "import re\n",
        "\n",
        "### Takes a string input and returns a new string without all 'non-letter'\n",
        "### The re.sub() function replaces non-letters specified into an empty string\n",
        "def remove_nonletters(word):\n",
        "  \"\"\"Removes any nonletter words\"\"\"\n",
        "  return re.sub(r'[^a-zA-Z]', '', word)\n",
        "\n",
        "### This function helps remove any insignificant words that do not really add any meaningful explanation about a text reviews on a beer\n",
        "def split_remove_nonletters(line):\n",
        "  \"\"\"Removes any insignificant words that do not add any meaning to the text reviews\"\"\"\n",
        "  result = []\n",
        "  for word in line.split(\" \"):\n",
        "    removed_token = remove_nonletters(word.lower())\n",
        "    if removed_token != '':\n",
        "      result.append((removed_token, 1))\n",
        "  return result\n",
        "\n",
        "### Parses the review_str and generates a dictionary containing word:count entries\n",
        "### The funciton takes a string as an input and then perform a word count and return a dictionary (result) containing the count of each words.\n",
        "def wc(review_str):\n",
        "  \"\"\"Takes a string as an input and performs a word count on the input strings and returns a dictionary result containing counts of each word\"\"\"\n",
        "  result = {}\n",
        "  for word in review_str.split():\n",
        "    removed_token = remove_nonletters(word.lower())\n",
        "    if removed_token != '' and removed_token not in STOP_WORDS:\n",
        "      if removed_token not in result:\n",
        "        result[removed_token] = 0\n",
        "      result[removed_token] += 1\n",
        "  return result\n",
        "\n"
      ]
    },
    {
      "cell_type": "code",
      "execution_count": null,
      "metadata": {
        "colab": {
          "base_uri": "https://localhost:8080/"
        },
        "id": "qztZ9d2KQuMo",
        "outputId": "e5b77bf3-20e9-45ce-92eb-799c683f9353"
      },
      "outputs": [
        {
          "name": "stdout",
          "output_type": "stream",
          "text": [
            "[(10, {'big': 2, 'thanks': 1, 'n': 1, 'knocking': 1, 'wants': 1, 'poured': 1, 'stone': 1, 'nonic': 1, 'shared': 1, 'buddy': 1, 'ryan': 1, 'quite': 1, 'delicious': 2, 'pour': 1, 'made': 1, 'seem': 1, 'little': 1, 'lacking': 1, 'carbonation': 2, 'indeed': 1, 'light': 1, 'think': 1, 'would': 2, 'awkward': 1, 'heavier': 1, 'considering': 1, 'taste': 2, 'profile': 1, 'beer': 1, 'good': 1, 'job': 1, 'hitting': 1, 'sweet': 1, 'savory': 2, 'side': 1, 'smoke': 2, 'nice': 2, 'campfire': 1, 'smell': 1, 'without': 1, 'roughness': 1, 'smoked': 1, 'bacon': 1, 'sweetness': 1, 'easy': 1, 'drink': 1, 'downright': 1, 'love': 1, 'keg': 1, 'desk': 1})]\n"
          ]
        }
      ],
      "source": [
        "### Applying word count of the significant words (that were meaningful) in the reviews text of each individuals on a beer to ensure it works\n",
        "### per User Document Count (UDC)\n",
        "per_UDC = sampled_rdd.map(lambda x: (x[1], wc(x[0]['review/text'])))\n",
        "print(per_UDC.take(1))\n"
      ]
    },
    {
      "cell_type": "code",
      "execution_count": null,
      "metadata": {
        "colab": {
          "base_uri": "https://localhost:8080/"
        },
        "id": "AW7ShMUX9jDU",
        "outputId": "7d2d7d82-5612-498d-a907-f8f890f5d527"
      },
      "outputs": [
        {
          "name": "stdout",
          "output_type": "stream",
          "text": [
            "[(10, {'big': 2, 'thanks': 1, 'n': 1, 'knocking': 1, 'wants': 1, 'poured': 1, 'stone': 1, 'nonic': 1, 'shared': 1, 'buddy': 1, 'ryan': 1, 'quite': 1, 'delicious': 2, 'pour': 1, 'made': 1, 'seem': 1, 'little': 1, 'lacking': 1, 'carbonation': 2, 'indeed': 1, 'light': 1, 'think': 1, 'would': 2, 'awkward': 1, 'heavier': 1, 'considering': 1, 'taste': 2, 'profile': 1, 'beer': 1, 'good': 1, 'job': 1, 'hitting': 1, 'sweet': 1, 'savory': 2, 'side': 1, 'smoke': 2, 'nice': 2, 'campfire': 1, 'smell': 1, 'without': 1, 'roughness': 1, 'smoked': 1, 'bacon': 1, 'sweetness': 1, 'easy': 1, 'drink': 1, 'downright': 1, 'love': 1, 'keg': 1, 'desk': 1}), (91, {'comes': 1, 'tap': 1, 'opaque': 1, 'deep': 1, 'sable': 1, 'minimal': 1, 'head': 1, 'latter': 1, 'may': 1, 'artifact': 1, 'te': 1, 'pour': 1, 'smoky': 1, 'aroma': 1, 'tones': 1, 'molasses': 2, 'highquality': 1, 'coffee': 2, 'absolutely': 1, 'delicious': 1, 'flavor': 1, 'roast': 1, 'chocolate': 1, 'components': 1, 'slightly': 1, 'sweet': 1, 'superb': 1, 'smooth': 1, 'fizzy': 1, 'texture': 1, 'extremely': 1, 'pleasing': 1, 'visit': 1, 'pacific': 1, 'northwest': 1, 'look': 1, 'one': 1}), (115, {'poured': 1, 'dark': 3, 'black': 1, 'good': 2, 'carbonation': 1, 'nice': 1, 'brown': 1, 'cap': 1, 'loads': 1, 'cocoa': 2, 'powder': 2, 'coffee': 2, 'chcolate': 1, 'hints': 1, 'funksour': 1, 'chocolate': 2, 'upfront': 1, 'booze': 2, 'sting': 1, 'bakers': 1, 'beans': 1, 'light': 1, 'funk': 1, 'going': 1, 'bitter': 1, 'end': 1, 'big': 1, 'body': 1, 'well': 1, 'carbonated': 1}), (117, {'beer': 2, 'pours': 1, 'dark': 1, 'clear': 1, 'amber': 3, 'color': 1, 'nice': 3, 'sturdy': 1, 'head': 1, 'aromas': 1, 'fresh': 1, 'pine': 1, 'like': 2, 'hops': 1, 'overpowering': 1, 'flavors': 2, 'similar': 1, 'ashland': 2, 'pumped': 1, 'bit': 2, 'really': 1, 'crisp': 1, 'tea': 1, 'malt': 1, 'character': 1, 'starts': 1, 'front': 1, 'finishes': 1, 'dry': 1, 'bitter': 1, 'hop': 1, 'finish': 1, 'mouthfeel': 1, 'carbonation': 1, 'good': 3, 'full': 1, 'drinkability': 1, 'quite': 1, 'session': 1, 'worthy': 1, 'interesting': 1, 'pretty': 1, 'stuff': 1}), (260, {'thanks': 1, 'hopdog': 1, 'appears': 1, 'hazy': 1, 'light': 1, 'orange': 1, 'small': 1, 'white': 1, 'head': 1, 'fades': 1, 'mild': 2, 'collar': 1, 'film': 1, 'spotty': 1, 'lacing': 1, 'left': 1, 'around': 1, 'glass': 1, 'smell': 1, 'nice': 1, 'citrusy': 1, 'hops': 1, 'along': 1, 'notes': 2, 'pine': 1, 'sap': 1, 'herbs': 1, 'taste': 1, 'mentioned': 1, 'aromas': 1, 'caramel': 1, 'citrus': 1, 'battling': 1, 'spiciness': 1, 'going': 1, 'flavor': 1, 'mouthfeel': 1, 'medium': 1, 'bodied': 1, 'yeasty': 1, 'sweet': 1, 'front': 1, 'bitter': 1, 'end': 1})]\n"
          ]
        }
      ],
      "source": [
        "### Practising on grabbing variables that will be used in TF-IDF algorithm and putting the 'review/overall' and 'review/text' in a tuple.\n",
        "### Applying word count of the significant words (that were meaningful) in the reviews text of each individuals on a beer\n",
        "### per User Document Count (UDC)\n",
        "\n",
        "#per_UDC = user_reviews_df_ids.map(lambda x:589528 documents (x[1], (x[0]['review/overall'], wc(x[0]['review/text'])))) ## This was the inital testing using the original RDD that contains the 589528 documents\n",
        "\n",
        "per_UDC_rate = sampled_rdd.map(lambda x: (x[1], (wc(x[0]['review/text']), x[0]['review/overall']))) # This can be use instead of joining the User Text Reviews and Overall Ratings\n",
        "print(per_UDC.take(5))\n",
        "\n",
        "### NOT sure if working\n",
        "#per_UDC_ratings = per_UDC.filter(lambda x: overall_splitter(x[0]['review/overall']))\n"
      ]
    },
    {
      "cell_type": "code",
      "execution_count": null,
      "metadata": {
        "id": "mXgxHq_Uc2S_"
      },
      "outputs": [],
      "source": [
        "### This function help split the overall review ratings by a user on a beer into three categories of negative (0-6), neutral (7-13), and positive (14-20)\n",
        "\n",
        "def overall_splitter(ratings):\n",
        "  \"\"\"Splits the overall review ratings made by a user into a three categories. That is negative (score from 0-6), neutral (score from 7-13), and positive (score from 14-20)\"\"\"\n",
        "\n",
        "  if ratings <= 6:\n",
        "    return f'negative {ratings}'\n",
        "  elif ratings > 6 and ratings <= 13:\n",
        "    return f'neutral {ratings}'\n",
        "  elif ratings > 13 and ratings <= 20:\n",
        "    return f'positive {ratings}'\n",
        "  else:\n",
        "    return f'Exceeded the overall rating range of 20 by {ratings - 20}'\n"
      ]
    },
    {
      "cell_type": "code",
      "execution_count": null,
      "metadata": {
        "colab": {
          "base_uri": "https://localhost:8080/"
        },
        "id": "tlIofyvgkx0V",
        "outputId": "2c6ad962-a7e4-4f9f-f5e4-7a8c37a3c075"
      },
      "outputs": [
        {
          "name": "stdout",
          "output_type": "stream",
          "text": [
            "[(0, ('negative 1.5', {'lot': 2, 'foam': 2, 'smell': 1, 'banana': 2, 'lactic': 2, 'tart': 1, 'good': 1, 'start': 1, 'quite': 1, 'dark': 1, 'orange': 1, 'color': 1, 'lively': 1, 'carbonation': 1, 'visible': 1, 'tending': 1, 'sourness': 1, 'taste': 1, 'yeast': 1}))]\n"
          ]
        }
      ],
      "source": [
        "### Displaying to make sure we have everything that we need before we start doing TF-IDF Algorithm\n",
        "per_UDC_ratings = user_reviews_df_ids.map(lambda x: (x[1], (overall_splitter(x[0]['review/overall']), wc(x[0]['review/text'])))) # This is new using the 'sampled_rdd' RDD\n",
        "print(per_UDC_ratings.take(1))\n"
      ]
    },
    {
      "cell_type": "markdown",
      "metadata": {
        "id": "wdKSl_ZsRI00"
      },
      "source": [
        "## Computing Term Frequency - Inverse Document Frequency (TF-IDF) to the BeerAdvocate RDD\n",
        "\n",
        "This computes the TF and IDF together to determine the most relevant term (word text) across the large collection of documents from Beeradvocate dataset.\n",
        "The higher the TF-IDF score identified here informs us how important that term is across the text reviews made by users.\n",
        "\n",
        "This will be helpful to identify the most likeable beer as we are going to associate the result we get here to its 'review/overall' ratings. And undertsand whether the 'review/overall' rates given by each query user relates to any of the words retrieved from the TF-IDF algorithm.\n",
        "\n",
        "Sourced from [DATA301 Sample Poject Code](https://colab.research.google.com/drive/1EWlIT5ecnwPSpZdE-9Z-vx65cL_bFFPR#scrollTo=UJDipG7SPIRo) and [DATA301 - Lab2](https://colab.research.google.com/drive/1Li4ev2Hip6oLPMxqM5gF9Cct90_yQJ0s)"
      ]
    },
    {
      "cell_type": "code",
      "execution_count": null,
      "metadata": {
        "colab": {
          "base_uri": "https://localhost:8080/"
        },
        "id": "zUQEgzj3DVJL",
        "outputId": "024174a9-7ecd-4442-f147-bf5112e45763"
      },
      "outputs": [
        {
          "name": "stdout",
          "output_type": "stream",
          "text": [
            "[('big', 1), ('thanks', 1), ('n', 1)]\n"
          ]
        }
      ],
      "source": [
        "### The higher the IDF value means that a term appears in fewer documents. Hence this can be considered as an informative term (word) in a 'review/text'\n",
        "### If a term have a low IDF value this means that it appears in a large number of documents.\n",
        "### User Document Counts (UDC)\n",
        "import math\n",
        "\n",
        "def idf(user_count):\n",
        "  \"\"\"Measures the importance of a term (words) in a collection of documents (per user reviews)\"\"\"\n",
        "  n_reviews = user_reviews_df.count()\n",
        "  #print(n_reviews)\n",
        "\n",
        "  combined_per_UCD = user_count.flatMap(lambda x: [(word, 1) for word in x[1].keys()]) # Initialise RDD containing a pair of tuple\n",
        "  print(combined_per_UCD.take(3))\n",
        "\n",
        "  overall_UCD = combined_per_UCD.reduceByKey(lambda a, b: a + b) # Collecting all pairs with the same key\n",
        "  print(overall_UCD.take(3))\n",
        "\n",
        "  ### IDFi = log2(N = number of documents in the collection / n = number of times a word appears in those 4 documents)\n",
        "  idf_UCD = overall_UCD.map(lambda x: (x[0], math.log(n_reviews/x[1],2))) # math.log(Number of documents on the left side, # of times a word appears in those 4 documents)\n",
        "  #print(idf_UCD.take(3))\n",
        "\n",
        "  return idf_UCD\n",
        "\n",
        "\n",
        "word_idf = idf(per_UDC)\n",
        "print(word_idf.take(3))"
      ]
    },
    {
      "cell_type": "code",
      "execution_count": null,
      "metadata": {
        "colab": {
          "background_save": true
        },
        "id": "8TS7LSOLw579",
        "outputId": "470ced53-88ab-4c41-eaf7-de0a26ce84aa"
      },
      "outputs": [
        {
          "name": "stdout",
          "output_type": "stream",
          "text": [
            "[(('big', 4.5), 2), (('thanks', 4.5), 1), (('n', 4.5), 1)]\n",
            "[(('big', 4.5), 438), (('thanks', 4.5), 190), (('n', 4.5), 9)]\n",
            "[(4.5, 438), (4.5, 190), (4.5, 9)]\n",
            "{4.5: 2434, 4.0: 4343, 3.5: 2161, 5.0: 714, 1.0: 92, 2.5: 332, 1.5: 107, 2.0: 232, 3.0: 1035}\n",
            "[(('big', 4.5), 0.1799506984387839), (('thanks', 4.5), 0.0780608052588332), (('n', 4.5), 0.0036976170912078883)]\n"
          ]
        }
      ],
      "source": [
        "### The code below doesn't use joining because when I first tried it, I ended up waiting for more than 10 minutes and still didn't get the result I wanted.\n",
        "### That joined RDD should roughly look like this: (0, ({'lot': 2, 'foam': 2, 'smell': 1, ... }, 1.5))\n",
        "### That is why I have approached a different way by just mapping through the RDD, and specifically grabbing the things I need such as 'key-positions', 'review/text', 'reviews/overal'\n",
        "### Creating a new RDD called per User Document Count Ratings (UDCR) which grabs 'key-positions', 'review/text', 'reviews/overal'\n",
        "### Using the 'sampled_rdd' here again because the original BeerAdvocate dataset is too large and when I tried it on that it was taking too long.\n",
        "### So this 'sampled_rdd' are just a subset sample from the original one.\n",
        "\n",
        "per_UDCR = sampled_rdd.map(lambda x: (x[1], (wc(x[0]['review/text']), x[0]['review/overall']))) # This alternative way of joining the User Text Reviews and Overall Ratings\n",
        "  #return per_UDC\n",
        "\n",
        "def tf(UD_counts_ratings):\n",
        "  \"\"\"Computes the Term Frequency (TF) for each user review text on a singular Beer in our BeerAdvocate dataset.\"\"\"\n",
        "\n",
        "  ### Since we have an RDD called per User Document Count Ratings (UDCR) which grabs 'key-positions', 'review/text', 'reviews/overall'\n",
        "  ### Pairing the 'review/text' and 'review/overall' that have the same key\n",
        "  ### Then loop per documents on the 'sampled RDD'\n",
        "  counting_rating_word = UD_counts_ratings.flatMap(lambda kv: [((word, kv[1][1]), kv[1][0][word]) for word in kv[1][0].keys()])\n",
        "  print(counting_rating_word.take(3))\n",
        "\n",
        "  ### total Word Rating Count (WRC)\n",
        "  total_WRC = counting_rating_word.reduceByKey(lambda a, b: a + b)\n",
        "  print(total_WRC.take(3))\n",
        "\n",
        "  ### Grabbing only the key from the (key, value) and the frequency of it\n",
        "  ### Which should give us the 'total Word Count By Ratings' (WCBR)\n",
        "  total_WCBR = total_WRC.map(lambda kv: (kv[0][1], kv[1]))\n",
        "  print(total_WCBR.take(3))\n",
        "\n",
        "  ### getting the maximum Per User Ratings (PUR)\n",
        "  ### Grouping the key-value pairs by key and do reduction to values associated with each key\n",
        "  ### Then using the 'max()' function to get the maximum value between 'a' and 'b'\n",
        "  ### We want the key-value pairs from the the RDD to convert into python dictionary, hence use 'collectAsMap()'\n",
        "  ### We shold get something like: {unique ratings from 'reviews/overall': maximum count associated with each rating}\n",
        "  max_PUR = total_WCBR.reduceByKey(lambda a, b: max(a, b)).collectAsMap()\n",
        "  print(max_PUR)\n",
        "\n",
        "  ### User Document Count Ratings frequency\n",
        "  UDCR_frequency = total_WRC.map(lambda kv: (kv[0], kv[1] / max_PUR[kv[0][1]]))\n",
        "  return UDCR_frequency\n",
        "\n",
        "# getting per User Document Ratings (UDR) Term Frequencies (TFs)\n",
        "per_UDR_tfs = tf(per_UDCR)\n",
        "print(per_UDR_tfs.take(3))\n"
      ]
    },
    {
      "cell_type": "code",
      "execution_count": null,
      "metadata": {
        "colab": {
          "background_save": true
        },
        "id": "-bJ1rltqvEbA"
      },
      "outputs": [],
      "source": [
        "### Forgot whether I need this\n",
        "# per_UDCR = sampled_rdd.map(lambda x: (x[1], (wc(x[0]['review/text']), x[0]['review/overall'])))\n",
        "# print(per_UDCR.take(1))"
      ]
    },
    {
      "cell_type": "code",
      "execution_count": null,
      "metadata": {
        "colab": {
          "background_save": true
        },
        "id": "g4Nm2EdMXEmD",
        "outputId": "ade43e33-bc79-4f89-86d7-246222f13f07"
      },
      "outputs": [
        {
          "name": "stdout",
          "output_type": "stream",
          "text": [
            "[('big', (4.5, 0.1799506984387839)), ('thanks', (4.5, 0.0780608052588332)), ('n', (4.5, 0.0036976170912078883))]\n",
            "[('big', ((4.5, 0.1799506984387839), 8.800694349462107)), ('big', ((4.0, 0.14598204006447157), 8.800694349462107)), ('big', ((3.0, 0.12657004830917876), 8.800694349462107)), ('big', ((3.5, 0.13142063859324388), 8.800694349462107)), ('big', ((2.5, 0.09036144578313253), 8.800694349462107)), ('big', ((5.0, 0.15126050420168066), 8.800694349462107)), ('big', ((2.0, 0.11206896551724138), 8.800694349462107)), ('big', ((1.0, 0.06521739130434782), 8.800694349462107)), ('big', ((1.5, 0.06542056074766354), 8.800694349462107)), ('n', ((4.5, 0.0036976170912078883), 14.262310215361282)), ('n', ((4.0, 0.0018420446695832373), 14.262310215361282)), ('n', ((2.5, 0.006024096385542169), 14.262310215361282)), ('n', ((3.5, 0.002776492364645997), 14.262310215361282)), ('n', ((3.0, 0.004830917874396135), 14.262310215361282)), ('n', ((5.0, 0.0014005602240896359), 14.262310215361282)), ('wants', ((4.5, 0.0024650780608052587), 14.847272716082436)), ('wants', ((4.0, 0.002302555836979047), 14.847272716082436)), ('wants', ((3.5, 0.00046274872744099955), 14.847272716082436)), ('wants', ((1.5, 0.009345794392523364), 14.847272716082436)), ('wants', ((3.0, 0.001932367149758454), 14.847272716082436)), ('poured', ((4.5, 0.28923582580115037), 7.60648138392048)), ('poured', ((4.0, 0.2816025788625374), 7.60648138392048)), ('poured', ((3.5, 0.2956964368347987), 7.60648138392048)), ('poured', ((3.0, 0.28792270531400965), 7.60648138392048)), ('poured', ((5.0, 0.20868347338935575), 7.60648138392048)), ('poured', ((2.5, 0.27710843373493976), 7.60648138392048)), ('poured', ((2.0, 0.23275862068965517), 7.60648138392048)), ('poured', ((1.0, 0.18478260869565216), 7.60648138392048)), ('poured', ((1.5, 0.1308411214953271), 7.60648138392048)), ('stone', ((4.5, 0.02506162695152013), 12.238463473406913))]\n",
            "[(4.5, (1.5836910949319651, 'big')), (4.0, (1.284743315118346, 'big')), (3.0, (1.1139043089657354, 'big')), (3.5, (1.1565928714702631, 'big')), (2.5, (0.7952434653128411, 'big'))]\n"
          ]
        }
      ],
      "source": [
        "def tfidfi(tfs, idfs):\n",
        "  \"\"\"Identifies the most important term (word text) within a collection of documents form BeerAdvocate dataset\"\"\"\n",
        "\n",
        "  ### Getting the Term Frequency per word along with its 'review/overall'ratings made by a user\n",
        "  word_tfs = tfs.map(lambda kv: (kv[0][0], (kv[0][1], kv[1])))\n",
        "  print(word_tfs.take(3))\n",
        "\n",
        "  ### Joining together the Term Frequency and Inverse Document Frequency\n",
        "  ### Joining documents with the same term\n",
        "  tfidf_join = word_tfs.join(idfs)\n",
        "  print(tfidf_join.take(30)) # The output showing repeated term, it may indicate that this term have the highest significance within the BeerAdvocate document\n",
        "\n",
        "  ### Multiplying values: TF * IDF\n",
        "  tfidf_result = tfidf_join.map(lambda kv: (kv[1][0][0], (kv[1][0][1] * kv[1][1], kv[0])))\n",
        "\n",
        "  return tfidf_result\n",
        "\n",
        "\n",
        "### Rate By (RB) Term Frequency Inverse Document Frequency (tfidfi)\n",
        "RB_tfidfi = tfidfi(per_UDR_tfs, word_idf)\n",
        "print(RB_tfidfi.take(5))"
      ]
    },
    {
      "cell_type": "code",
      "execution_count": null,
      "metadata": {
        "colab": {
          "background_save": true
        },
        "id": "RB6g_Lm5qgQM",
        "outputId": "4e0bdc41-6c6d-4bba-fb27-5b9e5b677905"
      },
      "outputs": [
        {
          "name": "stdout",
          "output_type": "stream",
          "text": [
            "('negative 5.0', [(6.592480285889554, 'beer'), (4.372868546280418, 'head'), (4.09039283013185, 'nice'), (3.664268017628552, 'taste'), (3.2293434681430715, 'one'), (3.108249069321355, 'sweet'), (3.0053510000336128, 'light'), (2.902204831205447, 'great'), (2.8391113606041167, 'malt'), (2.789696501799021, 'hops'), (2.736412252498564, 'good'), (2.6144216971716774, 'dark'), (2.5772544751443536, 'flavor'), (2.560485733863881, 'like'), (2.5232509431470267, 'glass'), (2.382921432050751, 'smooth'), (2.244653041171659, 'aroma'), (2.2247601067818925, 'well'), (2.1450239463194665, 'chocolate'), (2.0453324704076707, 'hop')])\n",
            "('negative 4.5', [(6.592480285889554, 'beer'), (5.693779764901281, 'nice'), (5.664901801606627, 'head'), (4.014617542682194, 'hops'), (3.9906777906601616, 'malt'), (3.9902599212990797, 'light'), (3.8614478124758422, 'taste'), (3.831645230004248, 'good'), (3.6995834977321, 'sweet'), (3.468105660678755, 'dark'), (3.33458086341894, 'well'), (3.2192053674357863, 'carbonation'), (3.078525176282044, 'flavor'), (3.0548269422959553, 'great'), (2.8980190850510885, 'one'), (2.8866247331542474, 'aroma'), (2.716580003778824, 'finish'), (2.712664381688953, 'like'), (2.685798717886901, 'color'), (2.663042127377732, 'hop')])\n",
            "('negative 4.0', [(6.472561809586244, 'beer'), (5.919343748122418, 'nice'), (5.879902339066324, 'head'), (4.757649491329706, 'good'), (4.45634422878812, 'taste'), (4.278859547979394, 'light'), (4.15705424511665, 'malt'), (4.0308900031840444, 'sweet'), (3.9814665547705155, 'hops'), (3.441991776463877, 'dark'), (3.2980633162573523, 'carbonation'), (3.189666632711283, 'flavor'), (3.177616633209566, 'bit'), (3.1449628055985426, 'aroma'), (3.0531925370576642, 'well'), (2.9569426342605514, 'color'), (2.852337393400902, 'finish'), (2.766195782912918, 'little'), (2.751199726799592, 'hop'), (2.6764378658727344, 'pours')])\n",
            "('negative 3.5', [(6.1226783589913625, 'beer'), (5.879902339066324, 'head'), (4.8415680771789384, 'light'), (4.490257076388265, 'taste'), (4.3938510896685505, 'malt'), (4.3933468999951275, 'sweet'), (4.064082575463255, 'nice'), (4.00998965212971, 'good'), (4.007491101713178, 'hops'), (3.7709138670212154, 'bit'), (3.50374013874634, 'carbonation'), (3.378544049836683, 'little'), (3.201126088012343, 'color'), (3.1784536353471893, 'aroma'), (3.171103519260725, 'flavor'), (3.160371333760969, 'dark'), (2.834026013311407, 'caramel'), (2.8084650599269683, 'finish'), (2.741130287010619, 'pours'), (2.7063975378405662, 'medium')])\n",
            "('negative 3.0', [(6.528784824190137, 'beer'), (5.879902339066324, 'head'), (5.382003726820735, 'taste'), (5.379626685406383, 'light'), (4.195975713156925, 'malt'), (3.9596534238285215, 'sweet'), (3.87836703260751, 'bit'), (3.639789273235698, 'hops'), (3.6043045129856135, 'little'), (3.4832702089901217, 'carbonation'), (3.332008518000104, 'aroma'), (3.328288840109898, 'flavor'), (3.260177332169632, 'color'), (3.2188700641380428, 'like'), (3.1439496585530886, 'good'), (2.994492558432855, 'smell'), (2.8742183804083914, 'white'), (2.7334261731591627, 'one'), (2.7007585608187776, 'mouthfeel'), (2.6806893301240904, 'nice')])\n",
            "('negative 2.5', [(6.592480285889554, 'beer'), (5.295454215002502, 'head'), (4.927733559958336, 'taste'), (4.346107755027792, 'like'), (3.8230720050628393, 'light'), (3.455713043526484, 'malt'), (3.4384085560911415, 'sweet'), (3.2590780144843503, 'flavor'), (3.1464018344435565, 'aroma'), (3.055416842232575, 'color'), (3.026924530145651, 'little'), (3.0128989480922983, 'carbonation'), (2.978026589106171, 'hops'), (2.977219370618315, 'bit'), (2.878533764347092, 'one'), (2.6304324905878382, 'finish'), (2.603095868320266, 'smell'), (2.5855260247474137, 'mouthfeel'), (2.5454008728007804, 'much'), (2.413244979133867, 'white')])\n",
            "('negative 2.0', [(6.592480285889554, 'beer'), (5.65282516573749, 'taste'), (4.6887152272727155, 'head'), (3.8387313779164973, 'light'), (3.8098079444913235, 'like'), (2.964041009588333, 'much'), (2.9339515286928908, 'sweet'), (2.8871471080694695, 'flavor'), (2.8681005857427744, 'aroma'), (2.844433453748536, 'carbonation'), (2.7211136927435526, 'bottle'), (2.6698252665451063, 'malt'), (2.6011613440423824, 'smell'), (2.544639376951344, 'good'), (2.459478858995402, 'color'), (2.4040521806183834, 'finish'), (2.398219986447689, 'white'), (2.3316350224875, 'thin'), (2.2884894869809256, 'one'), (2.276908859989765, 'mouthfeel')])\n",
            "('negative 1.5', [(6.592480285889554, 'beer'), (3.4079369595396733, 'light'), (3.022379706996708, 'head'), (2.8241087726559218, 'like'), (2.6936346217922345, 'one'), (2.537981354502738, 'taste'), (2.483675628389305, 'corn'), (2.2454754996633604, 'much'), (2.2013125326391845, 'flavor'), (1.8652445118642715, 'bad'), (1.8054247883722978, 'aroma'), (1.7891620303477673, 'sweet'), (1.7812056774993863, 'water'), (1.7767289144334482, 'pale'), (1.773433584470763, 'good'), (1.7528313973714538, 'carbonation'), (1.6458956250344217, 'color'), (1.6314489444137281, 'yellow'), (1.5413717086517456, 'almost'), (1.4981648067366529, 'drink')])\n",
            "('negative 1.0', [(6.592480285889554, 'beer'), (3.815719051268565, 'taste'), (3.7772454834272953, 'like'), (3.195599097318654, 'head'), (2.967929222867188, 'one'), (2.267464317082571, 'smell'), (2.2321969841992684, 'bottle'), (1.9514493181539343, 'ever'), (1.8376782456906064, 'color'), (1.773987653743334, 'white'), (1.758776751257147, 'drain'), (1.7561489477645496, 'bad'), (1.695526336327957, 'sweet'), (1.6610970649808383, 'carbonation'), (1.6326998105338009, 'corn'), (1.600676076104859, 'light'), (1.5978493094029191, 'yellow'), (1.5665880012244648, 'pours'), (1.557797440248031, 'beers'), (1.5377873793797159, 'thin')])\n"
          ]
        }
      ],
      "source": [
        "### Computing half of the answer to our proposed question of:\n",
        "### “what is the relationship between a customer’s text reviews and a beer’s features to the overall impression of the most popular beer.”\n",
        "### The output will be showing...\n",
        "\n",
        "### Outputting the Term Frequency-Inverse Document Frequency (TFIDF) Count By Ratings Word (CBRW)\n",
        "### Applying the 'overall_splitter' function which splits the 'review/overall' into three categories:\n",
        "### negative (0-6), neutral (7-13), and positive (14-20)\n",
        "\n",
        "TFIDF_CBRW = RB_tfidfi.groupByKey().map(lambda kv: (overall_splitter(kv[0]), sorted(kv[1], reverse=True)[:20]))\n",
        "#print(TFIDF_CBRW.take(5))\n",
        "\n",
        "# Sort the RDD in descending order\n",
        "descending_ratings = sorted(TFIDF_CBRW.collect(), key=lambda x: x[0], reverse = True)\n",
        "\n",
        "for grouped_ratings in descending_ratings:\n",
        "  print(grouped_ratings)\n"
      ]
    },
    {
      "cell_type": "markdown",
      "metadata": {
        "id": "6LSfX0pil0_n"
      },
      "source": [
        "## Computing the Cosine Similarity to the BeerAdvocate RDD\n",
        "\n",
        "In this section, the first process was to extract all the beer aspects: apearance, aroma, palate, taste. Then average all of it per 'review/overall' rates.\n",
        "\n",
        "\n",
        "\n",
        "Sourced from: [DATA301 - Lab 4](https://colab.research.google.com/drive/19qEMeBYEibyTZHKkHPmk3EapYO5_xYFP)"
      ]
    },
    {
      "cell_type": "code",
      "execution_count": null,
      "metadata": {
        "colab": {
          "background_save": true
        },
        "id": "28Shc8N-DW00",
        "outputId": "327fbd5d-bf99-4550-e6e6-ecf2452c84c3"
      },
      "outputs": [
        {
          "name": "stdout",
          "output_type": "stream",
          "text": [
            "0.5000000000000001\n",
            "1.0\n"
          ]
        }
      ],
      "source": [
        "### Sourced from DATA301 - Lab 4\n",
        "### Cosine Similarity formula\n",
        "\n",
        "def cosine_similarity(u, v):\n",
        "  \"\"\"Computes cosine similarity between two lists of integers\"\"\"\n",
        "  if u == v:\n",
        "    return 1.0\n",
        "\n",
        "  # Indicators\n",
        "  numerator = 0\n",
        "  denominator_u = 0\n",
        "  denominator_v = 0\n",
        "\n",
        "  # loops through both vectors and does the calculations\n",
        "  for i, j in zip(u, v):\n",
        "    numerator += i * j\n",
        "    denominator_u += i ** 2\n",
        "    denominator_v += j ** 2\n",
        "\n",
        "  # Does the Cosine Similarity Function\n",
        "  cosine_similarity = numerator / (sqrt(denominator_u) * sqrt(denominator_v))\n",
        "\n",
        "  return cosine_similarity\n",
        "\n",
        "### TEST CASE\n",
        "print(cosine_similarity([1,2,-1],[2,1,1]))\n",
        "print(cosine_similarity([1,2,1],[1,2,1]))"
      ]
    },
    {
      "cell_type": "markdown",
      "metadata": {
        "id": "GTDF4Lgy10K_"
      },
      "source": [
        "Computing all the mean average value of the Beer aspects made by user queries.\n",
        "Gets the apearance, aroma, palate, taste and then average all of it per 'review/overall'.\n",
        "\n",
        "This will be used later in the cosine similarity, wherein comparison between the first lowest 'review/overall' to the first top 5 lowest 'review/overall'.\n",
        "\n",
        "Sourced from: [Average of List in Python](https://sparkbyexamples.com/python/average-of-list-in-python/)"
      ]
    },
    {
      "cell_type": "code",
      "execution_count": null,
      "metadata": {
        "colab": {
          "background_save": true
        },
        "id": "bcXJHUVMrlTP"
      },
      "outputs": [],
      "source": [
        "\n",
        "### Hoping to get something like this:\n",
        "### [('the review/overall', [(mean of appearance, mean of aroma, mean of palate, mean of taste)])] -> [('negative 5.0', [(4, 4, 4, 4)]), ('negative 4.5', [(3, 3, 3, 3)]), .......]\n",
        "\n",
        "import statistics\n",
        "import math\n",
        "\n",
        "def mean_value_computation(rates):\n",
        "  \"\"\"Calculating the mean values for all of the rates user gave on apearance, aroma, palate, taste\"\"\"\n",
        "  appearance_rates, aroma_rates, palate_rates, taste_rates = zip(*rates) ### unpacks the lists of tuples from each aspects of the beer\n",
        "\n",
        "  ### Compute mean of the given lists of beer aspects values\n",
        "  mean_appearance_rate = statistics.mean(appearance_rates)\n",
        "  mean_aroma_rate = statistics.mean(aroma_rates)\n",
        "  mean_palate_rate = statistics.mean(palate_rates)\n",
        "  mean_taste_rate = statistics.mean(taste_rates)\n",
        "\n",
        "\n",
        "  return (math.ceil(mean_appearance_rate), math.ceil(mean_aroma_rate), math.ceil(mean_palate_rate), math.ceil(mean_taste_rate))"
      ]
    },
    {
      "cell_type": "code",
      "execution_count": null,
      "metadata": {
        "colab": {
          "background_save": true
        },
        "id": "K8wBC6xiZIZV",
        "outputId": "13b9ade0-5a56-414a-eed1-8c82efdd87dd"
      },
      "outputs": [
        {
          "name": "stdout",
          "output_type": "stream",
          "text": [
            "[(1.0, (3, 2, 2, 2)), (1.5, (3, 3, 2, 2)), (2.0, (3, 3, 3, 3)), (2.5, (4, 3, 3, 3)), (3.0, (4, 4, 4, 4)), (3.5, (4, 4, 4, 4)), (4.0, (4, 4, 4, 4)), (4.5, (5, 5, 5, 5)), (5.0, (5, 5, 5, 5))]\n"
          ]
        }
      ],
      "source": [
        "### Creating a new RDD that gathers the rating of 'review/overall' and the aspects of the beer made by users from the BeerAdvocate dataset\n",
        "\n",
        "### Negative Overall Ratings (NOR) rdd.\n",
        "NOR_rdd = sampled_rdd.filter(lambda x : overall_splitter(x[0][\"review/overall\"]).split()[0] == 'negative') ### get the negative from the 'review/overall'\n",
        "beer_aspect_rates = NOR_rdd.map(lambda x : (x[0]['review/overall'], (x[0]['review/appearance'], x[0]['review/aroma'], x[0]['review/palate'], x[0]['review/taste']))) ### Retrieving only the important variables\n",
        "\n",
        "grouped = beer_aspect_rates.groupByKey() ### Grouping by the key (which is the 'review/overall')\n",
        "mean_rates_rdd = grouped.mapValues(lambda x: mean_value_computation(x)) ### mapping through 'grouped' rdd then calulate all mean values\n",
        "\n",
        "### Mean Rates RDD (MRR) in ascending order\n",
        "MRR_ascending = mean_rates_rdd.sortByKey()\n",
        "\n",
        "print(MRR_ascending.collect())\n",
        "\n",
        "# print(mean_rates_rdd.takeOrdered(5, lambda x : x[0])) ### Prints it in ascending order\n",
        "# print(mean_rates_rdd.takeOrdered(5, lambda x : -x[0])) ### Prints it in descending order"
      ]
    },
    {
      "cell_type": "code",
      "execution_count": null,
      "metadata": {
        "colab": {
          "background_save": true
        },
        "id": "qLifXVeNdYnN",
        "outputId": "31f28581-3401-4b58-e498-a0096d0dac07"
      },
      "outputs": [
        {
          "name": "stdout",
          "output_type": "stream",
          "text": [
            "[((1.0, 1.0), 1.0), ((1.5, 1.0), 0.9843091327750998), ((2.0, 1.0), 0.9819805060619657), ((2.5, 1.0), 0.9983374884595828), ((3.0, 1.0), 0.9819805060619657)]\n"
          ]
        }
      ],
      "source": [
        "def cos_sim(user_rates):\n",
        "  \"\"\"Takes each aspects of singular beer (appearance, aroma, palate, taste) per user query and measures similarity between the lowest 'review/overall' compared to the rest of the first top 5 samples\"\"\"\n",
        "\n",
        "  ### Collection of Aspect Rates\n",
        "  Collection_AR = user_rates.collect()\n",
        "\n",
        "  ### Computing cosine similarities in all possile pairs comparisons\n",
        "  ### Wherein, the lowest/very first 'review/overall' is being compared with the first top 5 result of the 'review/overall'\n",
        "  ### Loops through this RDD:                                                                   index:  (x[0], x[1]     )\n",
        "  ### [(10, [3.5, 4.5, 4.0, 4.5]), (91, [4.5, 4.5, 4.5, 5.0]), (115, [4.0, 4.0, 4.0, 4.5]), ......] -> [(i, [v, v, v, v]), (i, [v, v, v, v]), ......]\n",
        "\n",
        "  cosine_similarities = user_rates.map(lambda x : [((i, x[0]), cosine_similarity(x[1] , v)) for i, v in Collection_AR]).flatMap(lambda x : (i for i in x))\n",
        "  #print(cosine_similarities.take(5))\n",
        "\n",
        "  return cosine_similarities\n",
        "\n",
        "  #print(cosine_similarities.takeOrdered(5, lambda x : -x[1])) ### to check it in descending order - takes about 6 minutes to output the result\n",
        "\n",
        "### Cosine Similarity (CS) Per User Aspect Rates (PUAR)\n",
        "cos_sim_PUAR = cos_sim(MRR_ascending)\n",
        "print(cos_sim_PUAR.take(5))"
      ]
    },
    {
      "cell_type": "code",
      "execution_count": null,
      "metadata": {
        "colab": {
          "background_save": true
        },
        "id": "nHswoxnXiw42",
        "outputId": "e4a2d7c0-16ee-45cb-eaed-cf964854b6dd"
      },
      "outputs": [
        {
          "name": "stdout",
          "output_type": "stream",
          "text": [
            "Cosine similarity between IDs 1.0 and 1.0: 1.0\n",
            "Cosine similarity between IDs 1.5 and 1.0: 0.9843091327750998\n",
            "Cosine similarity between IDs 2.0 and 1.0: 0.9819805060619657\n",
            "Cosine similarity between IDs 2.5 and 1.0: 0.9983374884595828\n",
            "Cosine similarity between IDs 3.0 and 1.0: 0.9819805060619657\n"
          ]
        }
      ],
      "source": [
        "### Outputting the result\n",
        "results = cos_sim_PUAR.take(5) ## Taking only the first 5 sample of the randomly selected user reviews about the aspects of the beers.\n",
        "for (id1, id2), similarity in results: ## Looping through the cosine similarity RDD\n",
        "    print(f\"Cosine similarity between IDs {id1} and {id2}: {similarity}\")"
      ]
    },
    {
      "cell_type": "code",
      "execution_count": null,
      "metadata": {
        "colab": {
          "background_save": true
        },
        "id": "qF3u5f9E3Sg3",
        "outputId": "93737fd9-02c7-499b-8632-dd930c6919d1"
      },
      "outputs": [
        {
          "name": "stdout",
          "output_type": "stream",
          "text": [
            "Overall rates: negative 1.0 and importance of a term word [(6.592480285889554, 'beer'), (3.815719051268565, 'taste'), (3.7772454834272953, 'like'), (3.195599097318654, 'head'), (2.967929222867188, 'one'), (2.267464317082571, 'smell'), (2.2321969841992684, 'bottle'), (1.9514493181539343, 'ever'), (1.8376782456906064, 'color'), (1.773987653743334, 'white'), (1.758776751257147, 'drain'), (1.7561489477645496, 'bad'), (1.695526336327957, 'sweet'), (1.6610970649808383, 'carbonation'), (1.6326998105338009, 'corn'), (1.600676076104859, 'light'), (1.5978493094029191, 'yellow'), (1.5665880012244648, 'pours'), (1.557797440248031, 'beers'), (1.5377873793797159, 'thin')].\n",
            "Overall rates: negative 1.5 and importance of a term word [(6.592480285889554, 'beer'), (3.4079369595396733, 'light'), (3.022379706996708, 'head'), (2.8241087726559218, 'like'), (2.6936346217922345, 'one'), (2.537981354502738, 'taste'), (2.483675628389305, 'corn'), (2.2454754996633604, 'much'), (2.2013125326391845, 'flavor'), (1.8652445118642715, 'bad'), (1.8054247883722978, 'aroma'), (1.7891620303477673, 'sweet'), (1.7812056774993863, 'water'), (1.7767289144334482, 'pale'), (1.773433584470763, 'good'), (1.7528313973714538, 'carbonation'), (1.6458956250344217, 'color'), (1.6314489444137281, 'yellow'), (1.5413717086517456, 'almost'), (1.4981648067366529, 'drink')].\n",
            "Overall rates: negative 2.0 and importance of a term word [(6.592480285889554, 'beer'), (5.65282516573749, 'taste'), (4.6887152272727155, 'head'), (3.8387313779164973, 'light'), (3.8098079444913235, 'like'), (2.964041009588333, 'much'), (2.9339515286928908, 'sweet'), (2.8871471080694695, 'flavor'), (2.8681005857427744, 'aroma'), (2.844433453748536, 'carbonation'), (2.7211136927435526, 'bottle'), (2.6698252665451063, 'malt'), (2.6011613440423824, 'smell'), (2.544639376951344, 'good'), (2.459478858995402, 'color'), (2.4040521806183834, 'finish'), (2.398219986447689, 'white'), (2.3316350224875, 'thin'), (2.2884894869809256, 'one'), (2.276908859989765, 'mouthfeel')].\n",
            "Overall rates: negative 2.5 and importance of a term word [(6.592480285889554, 'beer'), (5.295454215002502, 'head'), (4.927733559958336, 'taste'), (4.346107755027792, 'like'), (3.8230720050628393, 'light'), (3.455713043526484, 'malt'), (3.4384085560911415, 'sweet'), (3.2590780144843503, 'flavor'), (3.1464018344435565, 'aroma'), (3.055416842232575, 'color'), (3.026924530145651, 'little'), (3.0128989480922983, 'carbonation'), (2.978026589106171, 'hops'), (2.977219370618315, 'bit'), (2.878533764347092, 'one'), (2.6304324905878382, 'finish'), (2.603095868320266, 'smell'), (2.5855260247474137, 'mouthfeel'), (2.5454008728007804, 'much'), (2.413244979133867, 'white')].\n",
            "Overall rates: negative 3.0 and importance of a term word [(6.528784824190137, 'beer'), (5.879902339066324, 'head'), (5.382003726820735, 'taste'), (5.379626685406383, 'light'), (4.195975713156925, 'malt'), (3.9596534238285215, 'sweet'), (3.87836703260751, 'bit'), (3.639789273235698, 'hops'), (3.6043045129856135, 'little'), (3.4832702089901217, 'carbonation'), (3.332008518000104, 'aroma'), (3.328288840109898, 'flavor'), (3.260177332169632, 'color'), (3.2188700641380428, 'like'), (3.1439496585530886, 'good'), (2.994492558432855, 'smell'), (2.8742183804083914, 'white'), (2.7334261731591627, 'one'), (2.7007585608187776, 'mouthfeel'), (2.6806893301240904, 'nice')].\n"
          ]
        }
      ],
      "source": [
        "### From the TF-IDF result\n",
        "\n",
        "#print(TFIDF_CBRW.take(5))\n",
        "\n",
        "# Sort the RDD in ascending order\n",
        "ascending_ratings = sorted(TFIDF_CBRW.collect(), key=lambda x: x[0], reverse = False)\n",
        "\n",
        "### Origginal\n",
        "# for grouped_ratings in ascending_ratings[:5]:\n",
        "#   print(grouped_ratings)\n",
        "\n",
        "### Testing\n",
        "for overall_rates, tfidf_words in ascending_ratings[:5]:\n",
        "  print(f\"Overall rates: {overall_rates} and importance of a term word {tfidf_words}.\")\n"
      ]
    },
    {
      "cell_type": "code",
      "execution_count": null,
      "metadata": {
        "colab": {
          "background_save": true
        },
        "id": "m23adgXnwIOe",
        "outputId": "8ce73f51-9970-43cd-bfeb-07a97ed8e603"
      },
      "outputs": [
        {
          "name": "stdout",
          "output_type": "stream",
          "text": [
            "[('negative 2.5', (4, 3, 3, 3), [(6.592480285889554, 'beer'), (5.295454215002502, 'head'), (4.927733559958336, 'taste'), (4.346107755027792, 'like'), (3.8230720050628393, 'light'), (3.455713043526484, 'malt'), (3.4384085560911415, 'sweet'), (3.2590780144843503, 'flavor'), (3.1464018344435565, 'aroma'), (3.055416842232575, 'color'), (3.026924530145651, 'little'), (3.0128989480922983, 'carbonation'), (2.978026589106171, 'hops'), (2.977219370618315, 'bit'), (2.878533764347092, 'one'), (2.6304324905878382, 'finish'), (2.603095868320266, 'smell'), (2.5855260247474137, 'mouthfeel'), (2.5454008728007804, 'much'), (2.413244979133867, 'white')]), ('negative 3.0', (4, 4, 4, 4), [(6.528784824190137, 'beer'), (5.879902339066324, 'head'), (5.382003726820735, 'taste'), (5.379626685406383, 'light'), (4.195975713156925, 'malt'), (3.9596534238285215, 'sweet'), (3.87836703260751, 'bit'), (3.639789273235698, 'hops'), (3.6043045129856135, 'little'), (3.4832702089901217, 'carbonation'), (3.332008518000104, 'aroma'), (3.328288840109898, 'flavor'), (3.260177332169632, 'color'), (3.2188700641380428, 'like'), (3.1439496585530886, 'good'), (2.994492558432855, 'smell'), (2.8742183804083914, 'white'), (2.7334261731591627, 'one'), (2.7007585608187776, 'mouthfeel'), (2.6806893301240904, 'nice')]), ('negative 4.0', (4, 4, 4, 4), [(6.472561809586244, 'beer'), (5.919343748122418, 'nice'), (5.879902339066324, 'head'), (4.757649491329706, 'good'), (4.45634422878812, 'taste'), (4.278859547979394, 'light'), (4.15705424511665, 'malt'), (4.0308900031840444, 'sweet'), (3.9814665547705155, 'hops'), (3.441991776463877, 'dark'), (3.2980633162573523, 'carbonation'), (3.189666632711283, 'flavor'), (3.177616633209566, 'bit'), (3.1449628055985426, 'aroma'), (3.0531925370576642, 'well'), (2.9569426342605514, 'color'), (2.852337393400902, 'finish'), (2.766195782912918, 'little'), (2.751199726799592, 'hop'), (2.6764378658727344, 'pours')]), ('negative 3.5', (4, 4, 4, 4), [(6.1226783589913625, 'beer'), (5.879902339066324, 'head'), (4.8415680771789384, 'light'), (4.490257076388265, 'taste'), (4.3938510896685505, 'malt'), (4.3933468999951275, 'sweet'), (4.064082575463255, 'nice'), (4.00998965212971, 'good'), (4.007491101713178, 'hops'), (3.7709138670212154, 'bit'), (3.50374013874634, 'carbonation'), (3.378544049836683, 'little'), (3.201126088012343, 'color'), (3.1784536353471893, 'aroma'), (3.171103519260725, 'flavor'), (3.160371333760969, 'dark'), (2.834026013311407, 'caramel'), (2.8084650599269683, 'finish'), (2.741130287010619, 'pours'), (2.7063975378405662, 'medium')]), ('negative 1.0', (3, 2, 2, 2), [(6.592480285889554, 'beer'), (3.815719051268565, 'taste'), (3.7772454834272953, 'like'), (3.195599097318654, 'head'), (2.967929222867188, 'one'), (2.267464317082571, 'smell'), (2.2321969841992684, 'bottle'), (1.9514493181539343, 'ever'), (1.8376782456906064, 'color'), (1.773987653743334, 'white'), (1.758776751257147, 'drain'), (1.7561489477645496, 'bad'), (1.695526336327957, 'sweet'), (1.6610970649808383, 'carbonation'), (1.6326998105338009, 'corn'), (1.600676076104859, 'light'), (1.5978493094029191, 'yellow'), (1.5665880012244648, 'pours'), (1.557797440248031, 'beers'), (1.5377873793797159, 'thin')])]\n",
            "[('negative 5.0', (5, 5, 5, 5), [(6.592480285889554, 'beer'), (4.372868546280418, 'head'), (4.09039283013185, 'nice'), (3.664268017628552, 'taste'), (3.2293434681430715, 'one'), (3.108249069321355, 'sweet'), (3.0053510000336128, 'light'), (2.902204831205447, 'great'), (2.8391113606041167, 'malt'), (2.789696501799021, 'hops'), (2.736412252498564, 'good'), (2.6144216971716774, 'dark'), (2.5772544751443536, 'flavor'), (2.560485733863881, 'like'), (2.5232509431470267, 'glass'), (2.382921432050751, 'smooth'), (2.244653041171659, 'aroma'), (2.2247601067818925, 'well'), (2.1450239463194665, 'chocolate'), (2.0453324704076707, 'hop')]), ('negative 4.5', (5, 5, 5, 5), [(6.592480285889554, 'beer'), (5.693779764901281, 'nice'), (5.664901801606627, 'head'), (4.014617542682194, 'hops'), (3.9906777906601616, 'malt'), (3.9902599212990797, 'light'), (3.8614478124758422, 'taste'), (3.831645230004248, 'good'), (3.6995834977321, 'sweet'), (3.468105660678755, 'dark'), (3.33458086341894, 'well'), (3.2192053674357863, 'carbonation'), (3.078525176282044, 'flavor'), (3.0548269422959553, 'great'), (2.8980190850510885, 'one'), (2.8866247331542474, 'aroma'), (2.716580003778824, 'finish'), (2.712664381688953, 'like'), (2.685798717886901, 'color'), (2.663042127377732, 'hop')]), ('negative 4.0', (4, 4, 4, 4), [(6.472561809586244, 'beer'), (5.919343748122418, 'nice'), (5.879902339066324, 'head'), (4.757649491329706, 'good'), (4.45634422878812, 'taste'), (4.278859547979394, 'light'), (4.15705424511665, 'malt'), (4.0308900031840444, 'sweet'), (3.9814665547705155, 'hops'), (3.441991776463877, 'dark'), (3.2980633162573523, 'carbonation'), (3.189666632711283, 'flavor'), (3.177616633209566, 'bit'), (3.1449628055985426, 'aroma'), (3.0531925370576642, 'well'), (2.9569426342605514, 'color'), (2.852337393400902, 'finish'), (2.766195782912918, 'little'), (2.751199726799592, 'hop'), (2.6764378658727344, 'pours')]), ('negative 3.5', (4, 4, 4, 4), [(6.1226783589913625, 'beer'), (5.879902339066324, 'head'), (4.8415680771789384, 'light'), (4.490257076388265, 'taste'), (4.3938510896685505, 'malt'), (4.3933468999951275, 'sweet'), (4.064082575463255, 'nice'), (4.00998965212971, 'good'), (4.007491101713178, 'hops'), (3.7709138670212154, 'bit'), (3.50374013874634, 'carbonation'), (3.378544049836683, 'little'), (3.201126088012343, 'color'), (3.1784536353471893, 'aroma'), (3.171103519260725, 'flavor'), (3.160371333760969, 'dark'), (2.834026013311407, 'caramel'), (2.8084650599269683, 'finish'), (2.741130287010619, 'pours'), (2.7063975378405662, 'medium')]), ('negative 3.0', (4, 4, 4, 4), [(6.528784824190137, 'beer'), (5.879902339066324, 'head'), (5.382003726820735, 'taste'), (5.379626685406383, 'light'), (4.195975713156925, 'malt'), (3.9596534238285215, 'sweet'), (3.87836703260751, 'bit'), (3.639789273235698, 'hops'), (3.6043045129856135, 'little'), (3.4832702089901217, 'carbonation'), (3.332008518000104, 'aroma'), (3.328288840109898, 'flavor'), (3.260177332169632, 'color'), (3.2188700641380428, 'like'), (3.1439496585530886, 'good'), (2.994492558432855, 'smell'), (2.8742183804083914, 'white'), (2.7334261731591627, 'one'), (2.7007585608187776, 'mouthfeel'), (2.6806893301240904, 'nice')])]\n"
          ]
        }
      ],
      "source": [
        "### TESTING\n",
        "### Join the TF-IDF result with the mean value computation of aspect rate beers result\n",
        "\n",
        "tfidf_rdd = TFIDF_CBRW.map(lambda x : (float(x[0].split()[1]), x[1]))\n",
        "\n",
        "tfidf_rate_beer = mean_rates_rdd.join(tfidf_rdd)\n",
        "\n",
        "#print(tfidf_rate_beer.take(5))\n",
        "\n",
        "rates_tfidf = tfidf_rate_beer.map(lambda x: (overall_splitter(x[0]), x[1][0], x[1][1]))\n",
        "\n",
        "print(rates_tfidf.take(5))\n",
        "\n",
        "print(rates_tfidf.takeOrdered(5, lambda x : -float(x[0].split()[1])))\n"
      ]
    }
  ],
  "metadata": {
    "colab": {
      "provenance": []
    },
    "kernelspec": {
      "display_name": "Python 3",
      "name": "python3"
    },
    "language_info": {
      "name": "python"
    }
  },
  "nbformat": 4,
  "nbformat_minor": 0
}